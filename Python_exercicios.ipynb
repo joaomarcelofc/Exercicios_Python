{
  "nbformat": 4,
  "nbformat_minor": 0,
  "metadata": {
    "colab": {
      "provenance": [],
      "collapsed_sections": []
    },
    "kernelspec": {
      "name": "python3",
      "display_name": "Python 3"
    },
    "language_info": {
      "name": "python"
    }
  },
  "cells": [
    {
      "cell_type": "markdown",
      "source": [
        "#**LISTA DE EXERCÍCIOS - PYTHON**\n",
        "\n",
        "Apresentamos neste notebook a resolução de 147 exercícios extraídos do curso [Python na prática (+150 exercícios resolvidos e projetos)](https://www.udemy.com/course/python-na-pratica-120-exercicios-resolvidos-e-projetos/).O objetivo é praticar e melhorar nossas habilidades com Python através desses exercícios, percorrendo alguns dos principais detalhes da linguagem. Programação é uma disciplina totalmente prática, de forma que, apenas a leitura de livros e/ou acompanhamento de vídeos não desenvolve todas as habilidades necessárias. \n",
        "\n",
        "Importante ressaltar que os exercícios, embora sejam relativamente simples, sem muita complexidade, vão aumentando gradativamente o grau de dificuldade, e raciocínio lógico exigido, à medida em que novos assuntos são abordados.\n",
        "\n",
        "**Sem mais delongas, vamos lá!! Hora de colocar a mão na massa!!**"
      ],
      "metadata": {
        "id": "0fybBxfsxhDz"
      }
    },
    {
      "cell_type": "markdown",
      "source": [
        "<center><img alt=\"Atenas\" widh=\"50%\" src=https://img.freepik.com/fotos-gratis/a-mulher-amassa-a-massa-para-faz-a-pizza-em-de-madeira-conceito-de-cozinha_1150-4702.jpg?w=740&t=st=1664565199~exp=1664565799~hmac=1dd3386e6756dabf0b5949b6870a252d4c85afa27fc54c277b48d5ee6e42bc07\"></center>"
      ],
      "metadata": {
        "id": "pTG5TfwfzOXJ"
      }
    },
    {
      "cell_type": "code",
      "execution_count": 14,
      "metadata": {
        "id": "l2HnCXkO8V28",
        "colab": {
          "base_uri": "https://localhost:8080/"
        },
        "outputId": "3f8e1c12-6012-4da9-ebd6-eebcf24d58a9"
      },
      "outputs": [
        {
          "output_type": "stream",
          "name": "stdout",
          "text": [
            "Hello World!\n"
          ]
        }
      ],
      "source": [
        "# 1 Escreva um programa que mostre a mensagem 'Hello World!' na tela.\n",
        "print(\"Hello World!\")"
      ]
    },
    {
      "cell_type": "code",
      "source": [
        "# 2 Faça um programa que solicite um número do usuário e apresente a seguinte mensagem na tela: \"O número digitado foi [número]\".\n",
        "numero = int(input('Digite um número: '))\n",
        "print(f'O número digitado foi {numero}')"
      ],
      "metadata": {
        "colab": {
          "base_uri": "https://localhost:8080/"
        },
        "id": "TGW2YeRyK11j",
        "outputId": "f674633a-451c-4eb5-f233-2df4dc10f38c"
      },
      "execution_count": 15,
      "outputs": [
        {
          "output_type": "stream",
          "name": "stdout",
          "text": [
            "Digite um número: 50\n",
            "O número digitado foi 50\n"
          ]
        }
      ]
    },
    {
      "cell_type": "code",
      "source": [
        "# 3 Escreva um programa que solicite o nome e o sobrenome do usuário. Ao final o programa deverá apresentar o nome completo do usuário na tela.\n",
        "nome = str(input('Digite o seu nome: ')).title().strip()\n",
        "sobrenome = str(input('Digite o seu sobrenome: ')).title().strip()\n",
        "print(f'O seu nome completo é {nome} {sobrenome}')\n"
      ],
      "metadata": {
        "id": "rhfoqZD9LOGW"
      },
      "execution_count": null,
      "outputs": []
    },
    {
      "cell_type": "code",
      "source": [
        "# 4 Faça um programa que solicite três números inteiros do usuário e imprima a soma destes.\n",
        "n1 = int(input('Digite um número: '))\n",
        "n2 = int(input('Digite um número: '))\n",
        "n3 = int(input('Digite um número: '))\n",
        "print(f'{n1} + {n2} + {n3} = {n1+n2+n3}')"
      ],
      "metadata": {
        "id": "vdZ9fWDgM2Kq"
      },
      "execution_count": null,
      "outputs": []
    },
    {
      "cell_type": "code",
      "source": [
        "# 4 Faça um programa que solicite três números inteiros do usuário e imprima a soma destes.\n",
        "soma = 0\n",
        "for x in range(3): \n",
        "  numero = int(input('Digite um número inteiro: '))\n",
        "  soma += numero\n",
        "print(f'O somatório dos números digitados é {soma}.')"
      ],
      "metadata": {
        "id": "IKS2YbJ7Lk2Q"
      },
      "execution_count": null,
      "outputs": []
    },
    {
      "cell_type": "code",
      "source": [
        "# 5 Escreva um programa que solicite duas notas do usuário e apresente a média na tela da seguinte forma: \"A média das notas [nota1] e [nota2] é [média]\"\n",
        "nota_1 = float(input('Nota 1: \\n'))\n",
        "nota_2 = float(input('Nota 2: \\n'))\n",
        "print(f'A média das notas {nota_1} e {nota_2} é {(nota_1 + nota_2)/2}')"
      ],
      "metadata": {
        "id": "zNY9CZWcN0Jy"
      },
      "execution_count": null,
      "outputs": []
    },
    {
      "cell_type": "code",
      "source": [
        "# 6 Faça um programa que calcule a raiz quadrada de um número. O usuário deve inserir um número e o programa deve mostrar na tela o resultado da raiz quadrada do número inserido.\n",
        "numero = float(input(\"Digite um número para calcular sua raíz quadrada: \"))\n",
        "raiz = numero**(1/2)\n",
        "print(f'A raíz quadrada de {numero} é {raiz}.')"
      ],
      "metadata": {
        "id": "IryX-rtnPKu6"
      },
      "execution_count": null,
      "outputs": []
    },
    {
      "cell_type": "code",
      "source": [
        "# 7 Faça um programa que peça 5 números de ponto flutuante do usuário e apresente no final a média dos números digitados.\n",
        "n1 = float(input('Digite um número: '))\n",
        "n2 = float(input('Digite um número: '))\n",
        "n3 = float(input('Digite um número: '))\n",
        "n4 = float(input('Digite um número: '))\n",
        "n5 = float(input('Digite um número: '))\n",
        "print(f'A média dos números {n1},{n2},{n3},{n4},{n5} é {(n1+n2+n3+n4+n5)/5}.')"
      ],
      "metadata": {
        "id": "5lrAB3KjP6yR"
      },
      "execution_count": null,
      "outputs": []
    },
    {
      "cell_type": "code",
      "source": [
        "# 7 Faça um programa que peça 5 números de ponto flutuante do usuário e apresente no final a média dos números digitados.\n",
        "cont = 1\n",
        "soma = 0\n",
        "for x in range(5):\n",
        "  n = float(input(f'Digite o {cont}º número: '))\n",
        "  soma += n\n",
        "  cont += 1\n",
        "print(f'A média dos {cont-1} digitados é {(soma/(cont-1))}.')"
      ],
      "metadata": {
        "id": "GL0aQFH0QXlD"
      },
      "execution_count": null,
      "outputs": []
    },
    {
      "cell_type": "code",
      "source": [
        "# 8 Escreva um programa que faça a conversão de um dado valor de metro para quilômetro.\n",
        "num=float(input('Digite um valor em metros: '))\n",
        "print(f'{num} metros equivale a {num/1000} km')"
      ],
      "metadata": {
        "id": "S98PTKlxRzMP"
      },
      "execution_count": null,
      "outputs": []
    },
    {
      "cell_type": "code",
      "source": [
        "# 9 Escreva um programa que calcule a área de uma circunferência. O usuário deve digitar o valor do raio e ao final o programa deverá mostrar na tela a área da circunferência.\n",
        "\n",
        "# Use a fórmula: área=pi*r² , em que pi é uma constante e r o raio da circunferência.\n",
        "\n",
        "# Dica: você pode usar a biblioteca math para pegar a constante pi.\n",
        "raio = float(input('Digite o valor do raio do círculo: '))\n",
        "pi = 3.14159\n",
        "area = pi*raio**2\n",
        "print(f'Para um círculo de raio = {raio}, a área total da circunferência é {area:.2f}.')"
      ],
      "metadata": {
        "id": "bqYwqfgfR6xu"
      },
      "execution_count": null,
      "outputs": []
    },
    {
      "cell_type": "code",
      "source": [
        "# 10 Faça um programa que peça uma temperatura em Fahrenheit (F) e converta esta temperatura para grau Celsius (C), mostrando o resultado da conversão na tela.\n",
        "\n",
        "#Use a fórmula: C = 5 * ((F-32) / 9).\n",
        "far = float(input('Digite a temperatura em Fahrenheit: '))\n",
        "celsius = (5*((far-32)/9))\n",
        "print(f'A temperatura {far}ºF equivale a {celsius:.2f}ºC')"
      ],
      "metadata": {
        "id": "8iPxaIVjSeBC"
      },
      "execution_count": null,
      "outputs": []
    },
    {
      "cell_type": "code",
      "source": [
        "# 10 Faça um programa que peça uma temperatura em Fahrenheit (F) e converta esta temperatura para grau Celsius (C), mostrando o resultado da conversão na tela.\n",
        "\n",
        "#Use a fórmula: C = 5 * ((F-32) / 9).\n",
        "far = float(input('Digite a temperatura em Fahrenheit: '))\n",
        "lambda_celsius = lambda x: 5*((x-32)/9)\n",
        "print(f'A temperatura {far}ºF equivale a {lambda_celsius(far):.2f}ºC') "
      ],
      "metadata": {
        "id": "7yhlqWGtR68z"
      },
      "execution_count": null,
      "outputs": []
    },
    {
      "cell_type": "code",
      "source": [
        "# 11 Escreva um programa que peça dois números e apresente a divisão e multiplicação entre eles. A tela de apresentação deverá seguir o seguinte formato:\n",
        "\n",
        "# \"[número1]x[número2]=[multiplicação]\"\n",
        "\n",
        "# \"[número1]/[número2]=[divisão]\"\n",
        "n1 = float(input('Digite um número: '))\n",
        "n2 = float(input('Digite outro número: '))\n",
        "print(f'MULTIPLICAÇÃO: {n1} * {n2} = {n1*n2}.')\n",
        "print(f'DIVISÃO: {n1} / {n2} = {n1/n2}.')"
      ],
      "metadata": {
        "id": "0Ntr-8twU3q9"
      },
      "execution_count": null,
      "outputs": []
    },
    {
      "cell_type": "code",
      "source": [
        "#  12  Escreva um programa que receba o nome, sobrenome e idade do usuário e apresente a seguinte mensagem na tela:\n",
        "\n",
        "# \"Seja bem-vindo [nome] [sobrenome].\"\n",
        "\n",
        "# \"Você possui [idade] anos de idade.\"\n",
        "\n",
        "# No campo nome e sobrenome utilize os métodos strip() e title().\n",
        "nome = str(input('Digite o seu nome: ')).title().strip()\n",
        "sobrenome = str(input('Digite o seu sobrenome: ')).title().strip()\n",
        "idade = int(input('Digite a sua idade: '))\n",
        "print(f'Seja bem-vindo {nome} {sobrenome}!\\nVocê possui {idade} anos de idade.')"
      ],
      "metadata": {
        "id": "Yx5FTZj5VvXg"
      },
      "execution_count": null,
      "outputs": []
    },
    {
      "cell_type": "code",
      "source": [
        "# 13 Escreva um programa que peça um número do usuário via método input e converta esse número para o formato float.\n",
        "numero = int(input('Digite o número do usuário: '))\n",
        "numero = float(numero)\n",
        "print(f'Você digitou o número {numero}.')\n",
        "print(type(numero))"
      ],
      "metadata": {
        "id": "H4FnegDpVQM5"
      },
      "execution_count": null,
      "outputs": []
    },
    {
      "cell_type": "code",
      "source": [
        "# 14 Escreva um programa que peça o nome e a idade do usuário. Caso a idade do usuário seja maior ou igual a 18 anos apresente a seguinte mensagem: \n",
        "# \"Seja bem-vindo ao nosso site [nome]!\"; caso contrário, apresente a seguinte mensagem: \"Você não pode acessar nosso site [nome].\".\n",
        "nome = str(input('Digite o seu nome: ')).title().strip()\n",
        "idade = int(input('Digite a sua idade: '))\n",
        "if idade >= 18:\n",
        "  print(f'Seja bem vindo ao site, {nome}.')\n",
        "else:\n",
        "  print(f'Você não pode acessar o site, {nome}.')"
      ],
      "metadata": {
        "id": "Kai1GwukVQPI"
      },
      "execution_count": null,
      "outputs": []
    },
    {
      "cell_type": "code",
      "source": [
        "# 15 Elabore um programa para calcular a hipotenusa de um triângulo.\n",
        "\n",
        "# Dicas:\n",
        "\n",
        "# Veja o módulo math (math.hypot);\n",
        "\n",
        "# Utilize a seguinte fórmula: hipotenusa=(a²+b²)¹/2:\n",
        "from math import hypot\n",
        "cateto_a = float(input('Digite o Cateto Adjacente do triângulo: '))\n",
        "cateto_o = float(input('Digite o Cateto Oposto do triângulo: '))\n",
        "hipotenusa = hypot(cateto_a, cateto_o)\n",
        "print(f'Hipotenusa: {hipotenusa:.2f}')"
      ],
      "metadata": {
        "id": "mpvqpEqMexX5"
      },
      "execution_count": null,
      "outputs": []
    },
    {
      "cell_type": "code",
      "source": [
        "# 16 Faça um programa que recebe um número inteiro do usuário e calcule o fatorial deste número.\n",
        "\n",
        "# Dica: utilize o módulo math do Python, especificamente math.fatorial.\n",
        "from math import factorial\n",
        "numero = int(input('Digite um número para calcular o seu fatorial: '))\n",
        "print(f'O fatorial de {numero} é {factorial(numero)}.')"
      ],
      "metadata": {
        "id": "ANJzbJMBVQRb"
      },
      "execution_count": null,
      "outputs": []
    },
    {
      "cell_type": "code",
      "source": [
        "# 17 Escreva um programa que peça um número do usuário e calcule o logaritmo deste número nas bases 10 e 2.\n",
        "\n",
        "# Dica: utilize o módulo math.\n",
        "import math\n",
        " \n",
        "num=float(input('Digite um número: '))\n",
        "log1=math.log10(num)  #também podemos fazer: math.log(num,10)\n",
        "log2=math.log(num,2)\n",
        "print(f'O log de {num} na base 10 é {log1}')\n",
        "print(f'O log de {num} na base 2 é {log2}')"
      ],
      "metadata": {
        "id": "rDNCZyF3gQcC"
      },
      "execution_count": null,
      "outputs": []
    },
    {
      "cell_type": "code",
      "source": [
        "# 18 Faça um programa que peça a base e a altura de um retângulo e calcule e mostre na tela a área e o perímetro.\n",
        "base=float(input('Digite a base do retângulo: '))\n",
        "altura=float(input('Digite a altura do retângulo: '))\n",
        " \n",
        "area=base*altura\n",
        "perimetro=2*base+2*altura\n",
        " \n",
        "print(f'O retângulo digitado tem base {base} e altura {altura}.')\n",
        "print(f'A área deste retângulo é: {area}')\n",
        "print(f'O perímetro deste retângulo é: {perimetro}')"
      ],
      "metadata": {
        "id": "VQgDulNQVQUR"
      },
      "execution_count": null,
      "outputs": []
    },
    {
      "cell_type": "code",
      "source": [
        "# 19 Escreva um programa que solicite o nome, o sobrenome e o salário atual de um funcionário. \n",
        "# Ao fim, calcule seu novo salário considerando cenários hipotéticos, com os seguintes aumentos: 10%, 25%,30% e 50%. \n",
        "nome = str(input('Digite o seu nome: ')).title().strip()\n",
        "sobrenome = str(input('Digite o seu sobrenome: ')).title().strip()\n",
        "salario = float(input('Digite o seu salário: R$ '))\n",
        "print(f'Seu salário com 10% de aumento é: {(salario*1.10):.2f}.')\n",
        "print(f'Seu salário com 25% de aumento é: {(salario*1.25):.2f}.')\n",
        "print(f'Seu salário com 30% de aumento é: {(salario*1.30):.2f}.')\n",
        "print(f'Seu salário com 50% de aumento é: {(salario*1.50):.2f}.')"
      ],
      "metadata": {
        "id": "Z9JHSP43hSWL"
      },
      "execution_count": null,
      "outputs": []
    },
    {
      "cell_type": "code",
      "source": [
        "# 20 Escreva um programa que peça um número inteiro do usuário e calcule e imprima a tabuada deste número.\n",
        "numero = int(input('Digite um número para ver a sua tabuada: '))\n",
        "for x in range(11):\n",
        "  print(f'{numero} x {x} = {numero * x}')"
      ],
      "metadata": {
        "id": "R42sSpQ5iQkz"
      },
      "execution_count": null,
      "outputs": []
    },
    {
      "cell_type": "code",
      "source": [
        "# 21 Faça um programa que solicite um número inteiro e mostre o seu valor absoluto.\n",
        "# Dica: use a função built-in abs().\n",
        "num=int(input('Digite um número inteiro: '))\n",
        "print(f'O valor absoluto de {num} é {abs(num)}.')"
      ],
      "metadata": {
        "id": "zsb8arpIj2qY"
      },
      "execution_count": null,
      "outputs": []
    },
    {
      "cell_type": "code",
      "source": [
        "# 22 Faça um programa que peça uma string ao usuário e mostre na tela a quantidade de caracteres.\n",
        "# Dica: use a função built-in len() e trate a string com o método strip().\n",
        "palavra = str(input('Digite uma string: ')).strip()\n",
        "print(f'A palavra digitada  possui {len(palavra)} caracteres.')"
      ],
      "metadata": {
        "id": "gS0jHr3OqOw6"
      },
      "execution_count": null,
      "outputs": []
    },
    {
      "cell_type": "code",
      "source": [
        "# 23 Escreva um programa que peça um número inteiro do usuário e mostre se esse número é par ou ímpar. A mensagem na tela deverá seguir o seguinte formato:\n",
        "\n",
        "# \"O número [número] é [par/ímpar]\"\n",
        "numero = int(input('Digite um numero: '))\n",
        "if numero % 2 == 0:\n",
        "  print(f'O número {numero} é par.')\n",
        "else:\n",
        "  print(f'O número {numero} é impar.')"
      ],
      "metadata": {
        "id": "suLSMBZzj1DV"
      },
      "execution_count": null,
      "outputs": []
    },
    {
      "cell_type": "code",
      "source": [
        "# 24 O Índice de Massa Corporal (IMC) é utilizado para mensurar o peso ideal de uma pessoa. Escreva um programa que peça o nome, a idade , o peso e a altura do usuário. Ao final calcule e mostre o resultado do seu IMC e classifique este resultado de acordo com a regra a seguir.\n",
        "\n",
        "# IMC<17 - Muito abaixo do peso ideal\n",
        "# 17<=IMC<18,5 - Abaixo do peso\n",
        "# 18,5<=IMC<25 - Peso normal\n",
        "# 25<=IMC<30 - Acima do peso\n",
        "# 30<=IMC<35 - Obesidade I\n",
        "# 35<=IMC<40 - Obesidade II (severa)\n",
        "# IMC>=40 - Obesidade III (mórbida)\n",
        "\n",
        "# Lembre que: IMC=massa/(altura*altura)\n",
        "\n",
        "print('Cálculo do IMC')\n",
        "altura=float(input('Insira sua altura : \\n'))\n",
        "peso=float(input('Insira seu peso : \\n'))\n",
        "imc=peso/(altura*altura)  #poderíamos fazer peso/altura**2\n",
        "print('Processando seus dados...')\n",
        "if imc<17:\n",
        "    print('Muito abaixo do peso.')\n",
        "elif 17<=imc<18.5:\n",
        "    print('Abaixo do peso.')\n",
        "elif 18.5<=imc<25:\n",
        "    print('Peso normal.')\n",
        "elif 25<=imc<30:\n",
        "    print('Acima do peso.')\n",
        "elif 30<=imc<35:\n",
        "    print('Obesidade Grau I.')\n",
        "elif 35<=imc<40:\n",
        "    print('Obesidade Grau II (severa).')\n",
        "else:\n",
        "    print('Obesidade Grau III (mórbida).')"
      ],
      "metadata": {
        "id": "3t99rvK_tNoC"
      },
      "execution_count": null,
      "outputs": []
    },
    {
      "cell_type": "code",
      "source": [
        "# 25 Escreva um programa que receba dois números de ponto flutuante e mostre na tela o maior número digitado. \n",
        "# Considere a possibilidade de o usuário digitar dois números iguais.\n",
        "n1=float(input('Valor 1 : '))\n",
        "n2=float(input('Valor 2 : '))\n",
        "if n1>n2:\n",
        "    print(f'{n1}>{n2}')\n",
        "elif n1==n2:\n",
        "    print(f'{n1}={n2}')\n",
        "else:\n",
        "    print(f'{n1}<{n2}')"
      ],
      "metadata": {
        "id": "8RtYu4PUjuVL"
      },
      "execution_count": null,
      "outputs": []
    },
    {
      "cell_type": "code",
      "source": [
        "# 26 Escreva um programa que verifique se um determinado número digitado pelo usuário é nulo, positivo ou negativo.\n",
        "num=float(input('Digite um número: '))\n",
        "if num>0:\n",
        "    print('Número positivo.')\n",
        "elif num==0:\n",
        "    print('Número nulo.')\n",
        "else:\n",
        "    print('Número negativo.')"
      ],
      "metadata": {
        "id": "UBkfGzBljLvR"
      },
      "execution_count": null,
      "outputs": []
    },
    {
      "cell_type": "code",
      "source": [
        "# 27 Escreva um programa que receba três números do usuário e mostre na tela o maior número digitado.\n",
        "numero1=float(input('Número 1: '))\n",
        "numero2=float(input('Número 2: '))\n",
        "numero3=float(input('Número 3: '))\n",
        " \n",
        "if (numero1>=numero2) and (numero1>=numero3):\n",
        "    print(f'Maior número: {numero1}')\n",
        "elif (numero2>=numero1) and (numero2>=numero3):\n",
        "    print(f'Maior número: {numero2}')\n",
        "else:\n",
        "    print(f'Maior número: {numero3}')"
      ],
      "metadata": {
        "id": "pNCL_ki6hTiQ"
      },
      "execution_count": null,
      "outputs": []
    },
    {
      "cell_type": "code",
      "source": [
        "# 28 Escreva um programa que gere um número aleatório entre 1 e 100 e mostre na tela.\n",
        "\n",
        "import random\n",
        "x = random.randint(1,100)\n",
        "print(x)\n"
      ],
      "metadata": {
        "id": "Umam3ug3hTnt"
      },
      "execution_count": null,
      "outputs": []
    },
    {
      "cell_type": "code",
      "source": [
        "# 29 Elabore um progama para verificar se um ano é bissexto ou não.\n",
        "# A condição para ser um ano bissexto é: o ano deve ser divisível por 400; ou se for divisível por 4 e não for divisível por 100.\n",
        "ano=int(input('Ano : '))\n",
        "if ano%400==0 or (ano%4==0 and not ano%100==0):\n",
        "    print('Ano bissexto.')\n",
        "else:\n",
        "    print('Ano não bissexto.')"
      ],
      "metadata": {
        "id": "RyXRTWczhTrp"
      },
      "execution_count": null,
      "outputs": []
    },
    {
      "cell_type": "code",
      "source": [
        "# 30 Elabore um programa para calcular o tamanho de uma string.\n",
        "string=input('Digite algo: ')\n",
        "print(len(string))"
      ],
      "metadata": {
        "id": "Ff03CXoghTul"
      },
      "execution_count": null,
      "outputs": []
    },
    {
      "cell_type": "code",
      "source": [
        "# 31 Utilize o módulo datetime e mostre na tela a data e hora atual do sistema de acordo com o formato descrito abaixo.\n",
        "import datetime\n",
        " \n",
        "data_atual=datetime.datetime.now()\n",
        "print(data_atual.strftime('%d/%m/%Y - %H:%M:%S'))"
      ],
      "metadata": {
        "id": "gHk32hzaK3ov"
      },
      "execution_count": null,
      "outputs": []
    },
    {
      "cell_type": "code",
      "source": [
        "# 32 Escreva um programa que inverta uma string. Exemplos:\n",
        "# Hello World!\n",
        "# Python\n",
        "# !dlroW olleH\n",
        "# nohtyP\n",
        "s = str(input('Digite uma string: '))\n",
        "print(s[::-1])"
      ],
      "metadata": {
        "id": "CgQ6ZB0ihTxF"
      },
      "execution_count": null,
      "outputs": []
    },
    {
      "cell_type": "code",
      "source": [
        "# 33 Escreva um programa para mostrar na tela o calendário do mês de dezembro de 2020. Exemplo:\n",
        "#    December 2020\n",
        "# Mo Tu We Th Fr Sa Su\n",
        "#     1  2  3  4  5  6\n",
        "#  7  8  9 10 11 12 13\n",
        "# 14 15 16 17 18 19 20\n",
        "# 21 22 23 24 25 26 27\n",
        "# 28 29 30 31\n",
        "# Dica: importe o módulo calendar.\n",
        "import calendar\n",
        "print(calendar.month(2022,9))"
      ],
      "metadata": {
        "id": "pKpLPLByR7Ny"
      },
      "execution_count": null,
      "outputs": []
    },
    {
      "cell_type": "code",
      "source": [
        "# 34 Modifique o programa anterior e permita que o usuário especifique o ano e o mês a serem mostrados na tela.\n",
        "import calendar\n",
        "ano=int(input('Ano: '))\n",
        "mes=int(input('Mês: '))\n",
        " \n",
        "print(calendar.month(ano,mes))"
      ],
      "metadata": {
        "id": "ueTm0j1SLpWx"
      },
      "execution_count": null,
      "outputs": []
    },
    {
      "cell_type": "code",
      "source": [
        "# 35 Escreva um script que mostre na tela o preço de um produto associado a uma categoria especificada pelo usuário.\n",
        "# Utilize como referência as informações a seguir. Caso o usuário não digite uma categoria válida (número entre 1 e 10) mostre na tela uma mensagem personalizada.\n",
        "categoria=int(input('Digite a categoria do produto: '))\n",
        "if categoria==1:\n",
        "    print('O preço do produto é: $ 0.5')\n",
        "elif categoria==2:\n",
        "    print('O preço do produto é: $ 11.3')\n",
        "elif categoria==3:\n",
        "    print('O preço do produto é: $ 17.5')\n",
        "elif categoria==4:\n",
        "    print('O preço do produto é: $ 33.97')\n",
        "elif categoria==5:\n",
        "    print('O preço do produto é: $ 103.47')\n",
        "elif categoria==6:\n",
        "    print('O preço do produto é: $ 44.67')\n",
        "elif categoria==7:\n",
        "    print('O preço do produto é: $ 12.55')\n",
        "elif categoria==8:\n",
        "    print('O preço do produto é: $ 14.87')\n",
        "elif categoria==9:\n",
        "    print('O preço do produto é: $ 98.12')\n",
        "elif categoria==10:\n",
        "    print('O preço do produto é: $ 131.4')\n",
        "else:\n",
        "    print('Opção inválida.')\n"
      ],
      "metadata": {
        "id": "Xd3jVDfUL54_"
      },
      "execution_count": null,
      "outputs": []
    },
    {
      "cell_type": "code",
      "source": [
        "# 36 Resolva o exercício anterior para as categorias de 1 a 8. Utilize estruturas aninhadas.\n",
        "categoria=int(input('Categoria do produto: '))\n",
        "if categoria==1:\n",
        "    print('Preço: $ 0.5')\n",
        "else:\n",
        "    if categoria==2:\n",
        "        print('Preço: $ 11.35')\n",
        "    else:\n",
        "        if categoria==3:\n",
        "            print('Preço: $ 17.5')\n",
        "        else:\n",
        "            if categoria==4:\n",
        "                print('Preço: $ 33.97')\n",
        "            else:\n",
        "                if categoria==5:\n",
        "                    print('Preço: $ 103.47')\n",
        "                else:\n",
        "                    if categoria==6:\n",
        "                        print('Preço: $ 44.67')\n",
        "                    else:\n",
        "                        if categoria==7:\n",
        "                            print('Preço: $ 12.55')\n",
        "                        else:\n",
        "                            if categoria==8:\n",
        "                                print('Preço: $ 14.87')\n",
        "                            else:\n",
        "                                print('Categoria inválida.')"
      ],
      "metadata": {
        "id": "XDgEcexpMVmG"
      },
      "execution_count": null,
      "outputs": []
    },
    {
      "cell_type": "code",
      "source": [
        "# 37 Determine se uma letra inserida pelo usuário é uma vogal ou consoante.\n",
        "# Armazene as vogais em uma lista e implemente sua solução. Desconsidere a possibilidade de o usuário inserir números ou caracteres especiais.\n",
        "letra=input('Digite uma letra: ')\n",
        "vogais=['a','e','i','o','u']\n",
        "if letra in vogais:\n",
        "    print('A letra digitada é uma vogal.')\n",
        "else:\n",
        "    print('A letra digitada é uma consoante.')"
      ],
      "metadata": {
        "id": "NrsfS6RGNFWT"
      },
      "execution_count": null,
      "outputs": []
    },
    {
      "cell_type": "code",
      "source": [
        "# 38 Escreva um script para classificar um triângulo de acordo com o tamanho dos seus lados. Considere as seguintes informações:\n",
        "\n",
        "# Triângulo equilátero: todos os lados possuem o mesmo tamanho;\n",
        "\n",
        "# Trângulo escaleno: todos os lados possuem medidas diferentes;\n",
        "\n",
        "# Triângulo isósceles: caracterizado por ter dois lados com o mesmo tamanho.\n",
        "ladoA=float(input('Lado A: '))\n",
        "ladoB=float(input('Lado B: '))\n",
        "ladoC=float(input('Lado C: '))\n",
        "if ladoA==ladoB==ladoC:\n",
        "    print('O triângulo é equilátero.')\n",
        "elif ladoA==ladoB or ladoA==ladoC or ladoB==ladoC:\n",
        "    print('O triângulo é isósceles.')\n",
        "else:\n",
        "    print('O triângulo é escaleno.')"
      ],
      "metadata": {
        "id": "Dsfw36AYNOSn"
      },
      "execution_count": null,
      "outputs": []
    },
    {
      "cell_type": "code",
      "source": [
        "# 39 Implemente uma calculadora simples com as operações aritméticas básicas.\n",
        "# O usuário deverá especificar a operação desejada (+,-,*,/) e seguidamente inserir dois valores.\n",
        "# Caso, o usuário escolha divisão e insira o valor do denominar 0 mostre uma mensagem personalizada.\n",
        "# Para os demais casos, mostre na tela o resultado da operação desejada.\n",
        "operacao=input('Escolha a operação deseja: (+,-,*,/)')\n",
        "if operacao in ['+','-','*','/']:\n",
        "    num1=float(input('Número 1: '))\n",
        "    num2=float(input('Número 2: '))\n",
        "    if operacao=='+':\n",
        "        print(f'{num1}+{num2}={num1+num2}')\n",
        "    elif operacao=='-':\n",
        "        print(f'{num1}-{num2}={num1-num2}')\n",
        "    elif operacao=='*':\n",
        "        print(f'{num1}*{num2}={num1*num2}')\n",
        "    else:\n",
        "        if num2==0:\n",
        "            print('O denominador precisa ser diferente de zero.')\n",
        "        else:\n",
        "            print(f'{num1}/{num2}={num1/num2}')\n",
        "else:\n",
        "    print('Opção inválida.')d"
      ],
      "metadata": {
        "id": "Dt4X0p4ANUzT"
      },
      "execution_count": null,
      "outputs": []
    },
    {
      "cell_type": "code",
      "source": [
        "# 40 Escreva um programa que mostre de 1 até 50 na tela.\n",
        "for x in range (51):\n",
        "  print(x,end='-' )"
      ],
      "metadata": {
        "id": "RoP808nANpzC"
      },
      "execution_count": null,
      "outputs": []
    },
    {
      "cell_type": "code",
      "source": [
        "# 40 Escreva um programa que mostre de 1 até 50 na tela.\n",
        "lista = list(x for x in range(51))\n",
        "print(lista)"
      ],
      "metadata": {
        "id": "uxqfiGj3PZio"
      },
      "execution_count": null,
      "outputs": []
    },
    {
      "cell_type": "code",
      "source": [
        "# 41 Escreva um programa que mostre de 50 até 1 na tela.\n",
        "for x in range(50,0,-1):\n",
        "  print(x, end='-')"
      ],
      "metadata": {
        "id": "Q-hVSKdbPYSU"
      },
      "execution_count": null,
      "outputs": []
    },
    {
      "cell_type": "code",
      "source": [
        "# 41 Escreva um programa que mostre de 50 até 1 na tela.\n",
        "lista = list(x for x in range(50,0,-1))\n",
        "print(lista)"
      ],
      "metadata": {
        "id": "zVtPMyIZQZV3"
      },
      "execution_count": null,
      "outputs": []
    },
    {
      "cell_type": "code",
      "source": [
        "# 42 Escreva um programa que mostre de 150 até 200 na tela.\n",
        "for num in range(150,201):\n",
        "    print(num,end='-')"
      ],
      "metadata": {
        "id": "Z80aKwPUQpOj"
      },
      "execution_count": null,
      "outputs": []
    },
    {
      "cell_type": "code",
      "source": [
        "# 43 Escreva um programa de contagem regressiva, ou seja, imprima na tela o seguinte padrão numérico:\n",
        "for num in range(5,-1,-1):\n",
        "    print(num)"
      ],
      "metadata": {
        "id": "yaWccjBjQxnI"
      },
      "execution_count": null,
      "outputs": []
    },
    {
      "cell_type": "code",
      "source": [
        "# 44 Faça um programa que imprima na tela de 1 até um número digitado pelo usuário.\n",
        "n = int(input('Digite um numero: '))\n",
        "for x in range(1,n+1):\n",
        "  print(x,end='-')"
      ],
      "metadata": {
        "id": "dft-ceviQ5QH"
      },
      "execution_count": null,
      "outputs": []
    },
    {
      "cell_type": "code",
      "source": [
        "\n",
        "# 45 Escreva um programa que mostre na tela os 20 primeiros múltiplos de 5.\n",
        "lista=[num for num in range(1,101) if num%5==0]  #usando List Comprehension\n",
        "for num in lista:\n",
        "    print(num,end='-')"
      ],
      "metadata": {
        "id": "f62aP7pBR7q3"
      },
      "execution_count": null,
      "outputs": []
    },
    {
      "cell_type": "code",
      "source": [
        "# 46 Utilizando estruturas de repetição escreva um programa que mostre os resultados da tabuada (multiplicação) de um número inserido pelo usuário.\n",
        "n = int(input('Digite um número: '))\n",
        "for x in range(11):\n",
        "  print(f'{n}*{x}={n*x}')"
      ],
      "metadata": {
        "id": "RCRB4QyGSY4Q"
      },
      "execution_count": null,
      "outputs": []
    },
    {
      "cell_type": "code",
      "source": [
        "# 47 Utilizando estruturas de repetição escreva um programa que mostre os resultados da tabuada de multiplicação dos números entre 1 e 10.\n",
        "for x in range(1,11):\n",
        "  for y in range(1,11):\n",
        "    print(f'{x} * {y} = {x*y}')\n",
        "  print( )"
      ],
      "metadata": {
        "id": "sNuR1DjCS2Zk"
      },
      "execution_count": null,
      "outputs": []
    },
    {
      "cell_type": "code",
      "source": [
        "# 48 Em um único loop escreva um programa que mostre na tela de 1 a 10 três vezes e ao final mostre a mensagem Fim . \n",
        "# No primeiro loop utilize for e nos dois loops seguintes while.\n",
        "for n in range(3):\n",
        "  for x in range(1,11):\n",
        "    print(x)"
      ],
      "metadata": {
        "id": "QOc4SRWCTRj0"
      },
      "execution_count": null,
      "outputs": []
    },
    {
      "cell_type": "code",
      "source": [
        "# 49 Escreva um programa que peça ao usuário números entre 0-10.\n",
        "# Se o usuário inserir um número fora desse intervalo o programa deverá finalizar com uma mensagem personalizada.\n",
        "while True:\n",
        "    num=int(input('Insira um número inteiro entre 0-10: '))\n",
        "    if num<0 or num>10:\n",
        "        print('Fim do programa.')\n",
        "        break "
      ],
      "metadata": {
        "id": "1CEFSFfZUY5M"
      },
      "execution_count": null,
      "outputs": []
    },
    {
      "cell_type": "code",
      "source": [
        "# 50 Em um único loop escreva um programa que mostre na tela de 0-5, cinco vezes e ao final mostre a mensagem Fim .\n",
        "# Utilize apenas for em sua implementação. Seu programa deverá gerar um output com o seguinte formato:\n",
        "for v in range(5):\n",
        "  for x in range(6):\n",
        "    print(x)\n",
        "print('fim')"
      ],
      "metadata": {
        "id": "AB9TWsK3U8q4"
      },
      "execution_count": null,
      "outputs": []
    },
    {
      "cell_type": "code",
      "source": [
        "# 51 Escreva um programa que peça números reais (float) do usuário indefinidamente .\n",
        "# Caso os números digitados não estejam situados entre 0 e 10 o programa deverá ser finalizado, mostrando a soma e a quantidade de números digitados.\n",
        "cont = 0\n",
        "soma = 0\n",
        "while True:\n",
        "  n = float(input('Digite um número: '))\n",
        "  cont += 1\n",
        "  soma += n\n",
        "  if n<0 or n>10:\n",
        "    break\n",
        "print(f'Você digitou {cont} números cuja soma total é de {soma}.')"
      ],
      "metadata": {
        "id": "PLVlAkFTVTiI"
      },
      "execution_count": null,
      "outputs": []
    },
    {
      "cell_type": "code",
      "source": [
        "# 52 Escreva um programa que peça ao usuário 20 números reais e ao final mostre a soma e a média dos números digitados.\n",
        "soma = 0\n",
        "cont = 0\n",
        "for x in range(20):\n",
        "  n = float(input('Digite um número: '))\n",
        "  cont+=1\n",
        "  soma+=n\n",
        "print(f'O total dos números digitados é {soma} e a média desses valores é {soma/cont}.')"
      ],
      "metadata": {
        "id": "va6v8MfMWl_1"
      },
      "execution_count": null,
      "outputs": []
    },
    {
      "cell_type": "code",
      "source": [
        "# 53 Elabore um programa que calcule e mostre na tela os números pares entre 1 e 200. \n",
        "# Os números devem ser mostrados na tela de acordo com o formato a seguir:\n",
        "for x in range(1,201):\n",
        "  if x % 2 == 0:\n",
        "    print(x,end='-')"
      ],
      "metadata": {
        "id": "Sgl3zVJOXbgq"
      },
      "execution_count": null,
      "outputs": []
    },
    {
      "cell_type": "code",
      "source": [],
      "metadata": {
        "id": "jz-RmoucX-CH"
      },
      "execution_count": null,
      "outputs": []
    },
    {
      "cell_type": "code",
      "source": [
        "# 53 Elabore um programa que calcule e mostre na tela os números pares entre 1 e 200. \n",
        "# Os números devem ser mostrados na tela de acordo com o formato a seguir:\n",
        "lista = list(x for x in range(1,201) if x % 2 == 0)\n",
        "print(lista)"
      ],
      "metadata": {
        "id": "tQFrdtklXTA9"
      },
      "execution_count": null,
      "outputs": []
    },
    {
      "cell_type": "code",
      "source": [
        "# 54 Elabore um programa que calcule e mostre na tela os números ímpares entre 1 e 200.\n",
        "for x in range(1,200):\n",
        "  if x % 2 != 0:\n",
        "    print(x,end='-')"
      ],
      "metadata": {
        "id": "03owRcPgYRZD"
      },
      "execution_count": null,
      "outputs": []
    },
    {
      "cell_type": "code",
      "source": [
        "# 54 Elabore um programa que calcule e mostre na tela os números ímpares entre 1 e 200.\n",
        "lista = [x for x in range(1,200) if x % 2 != 0]\n",
        "print(lista)"
      ],
      "metadata": {
        "id": "6rINDbOwYMy_"
      },
      "execution_count": null,
      "outputs": []
    },
    {
      "cell_type": "code",
      "source": [
        "# 55 Escreva um programa que peça um número inteiro do usuário e mostre na tela o fatorial deste número.\n",
        "num=int(input('Digite um número inteiro: '))\n",
        "fatorial=1\n",
        "for i in range(1,num+1):\n",
        "    fatorial=fatorial*i\n",
        "print(f'O fatorial de {num} é {fatorial}')"
      ],
      "metadata": {
        "id": "yLvLNPF1YqNO"
      },
      "execution_count": null,
      "outputs": []
    },
    {
      "cell_type": "code",
      "source": [
        "# 56 Escreva um programa que peça números inteiros positivos indefinidamente e armazene-os em uma lista.\n",
        "# O programa deverá ser encerrado caso o número digitado seja negativo ou nulo.\n",
        "# Ao final mostre na tela a quantidade números pares e ímpares.\n",
        "lista = []\n",
        "while True:\n",
        "  n = int(input('Digite um número positivo: '))\n",
        "  if n > 0:\n",
        "    lista.append(n)\n",
        "  else:\n",
        "    break\n",
        "listapares = [x for x in lista if x % 2 == 0]\n",
        "listaimpares = [x for x in lista if x % 2 != 0]\n",
        "print(f'Você digitou {len(listapares)} números pares e {len(listaimpares)} números impares.')"
      ],
      "metadata": {
        "id": "y7qpgcAOYJtk"
      },
      "execution_count": null,
      "outputs": []
    },
    {
      "cell_type": "code",
      "source": [
        "# 56 Escreva um programa que peça números inteiros positivos indefinidamente e armazene-os em uma lista.\n",
        "# O programa deverá ser encerrado caso o número digitado seja negativo ou nulo.\n",
        "# Ao final mostre na tela a quantidade números pares e ímpares.\n",
        "lista=[]\n",
        "soma_par=0\n",
        "soma_impar=0\n",
        " \n",
        "while True:\n",
        "    num=int(input('Digite um número: '))\n",
        "    if num>0:\n",
        "        lista.append(num)\n",
        "    else:\n",
        "        break\n",
        "        \n",
        "#contando a quantidade de pares/ímpares da lista\n",
        "for num in lista:\n",
        "    if num%2==0:\n",
        "        soma_par+=1\n",
        "    else:\n",
        "        soma_impar+=1\n",
        "        \n",
        "print(f'Quantidade de números pares: {soma_par}')\n",
        "print(f'Quantidade de números ímpares: {soma_impar}')"
      ],
      "metadata": {
        "id": "4PJg3xlCtqSU"
      },
      "execution_count": null,
      "outputs": []
    },
    {
      "cell_type": "code",
      "source": [
        "# 57 Elabore um programa que embaralhe a lista a seguir e mostre na tela cada elemento.\n",
        "import random\n",
        "lista=['A','B','C','D','E','F','G','H','I','J','K','L','M']\n",
        "\n",
        "random.shuffle(lista)\n",
        "\n",
        "for x in lista:\n",
        "  print(x)"
      ],
      "metadata": {
        "id": "hvEVQeWsYHa8"
      },
      "execution_count": null,
      "outputs": []
    },
    {
      "cell_type": "code",
      "source": [
        "# 58 Peça 5 números do usuário e mostre na tela a média dos números digitados.\n",
        "cont = 1\n",
        "soma = 0\n",
        "for x in range(5):\n",
        "  n = int(input(f'Digite o {cont}º número: '))\n",
        "  cont+=1\n",
        "  soma+=n\n",
        "print(f'A média dos valores digitados é {soma/(cont-1)}.')"
      ],
      "metadata": {
        "id": "2BIqIHYWuq-w"
      },
      "execution_count": null,
      "outputs": []
    },
    {
      "cell_type": "code",
      "source": [
        "# 59 Considere a lista de produtos abaixo e implemente duas soluções para somar o valor total deste carrinho de compras.\n",
        "\n",
        "# Dica: utilize List comprehension e/ou  loop for.\n",
        "lista_compras=[\n",
        "    {'nome':'feijão','preco':9.79},\n",
        "    {'nome':'arroz','preco':3.45},\n",
        "    {'nome':'carne','preco':20.93},\n",
        "    {'nome':'macarrão','preco':2.99},\n",
        "    {'nome':'vinagre','preco':2.25},\n",
        "    {'nome':'pimenta','preco':1.27},\n",
        "    {'nome':'batata','preco':5.67},\n",
        "    {'nome':'leite','preco':12},\n",
        "    {'nome':'manteiga','preco':7.99},\n",
        "    {'nome':'margarina','preco':2.5},\n",
        "    {'nome':'cenoura','preco':3.55},\n",
        "    {'nome':'sabão','preco':4.79},\n",
        "    {'nome':'chá','preco':3.45},\n",
        "    {'nome':'morango','preco':17.8},\n",
        "    {'nome':'soja','preco':20.2},\n",
        "    {'nome':'goiaba','preco':3.45},\n",
        "    {'nome':'melão','preco':5.12},\n",
        "]\n",
        "\n",
        "sum = 0\n",
        "for x in lista_compras:\n",
        "  y = (x['preco'])\n",
        "  sum+=y\n",
        "print(f'O valor total é {sum:.2f}')"
      ],
      "metadata": {
        "id": "5TQgnTgFvP1N"
      },
      "execution_count": null,
      "outputs": []
    },
    {
      "cell_type": "code",
      "source": [
        "# 59 Considere a lista de produtos abaixo e implemente duas soluções para somar o valor total deste carrinho de compras.\n",
        "\n",
        "# Dica: utilize List comprehension e/ou  loop for.\n",
        "lista_compras=[\n",
        "    {'nome':'feijão','preco':9.79},\n",
        "    {'nome':'arroz','preco':3.45},\n",
        "    {'nome':'carne','preco':20.93},\n",
        "    {'nome':'macarrão','preco':2.99},\n",
        "    {'nome':'vinagre','preco':2.25},\n",
        "    {'nome':'pimenta','preco':1.27},\n",
        "    {'nome':'batata','preco':5.67},\n",
        "    {'nome':'leite','preco':12},\n",
        "    {'nome':'manteiga','preco':7.99},\n",
        "    {'nome':'margarina','preco':2.5},\n",
        "    {'nome':'cenoura','preco':3.55},\n",
        "    {'nome':'sabão','preco':4.79},\n",
        "    {'nome':'chá','preco':3.45},\n",
        "    {'nome':'morango','preco':17.8},\n",
        "    {'nome':'soja','preco':20.2},\n",
        "    {'nome':'goiaba','preco':3.45},\n",
        "    {'nome':'melão','preco':5.12},\n",
        "]\n",
        "\n",
        "soma = 0\n",
        "for x in lista_compras:\n",
        "  soma+=x['preco']\n",
        "print(f'O valor total dos produtos é de {soma:.2f}.')"
      ],
      "metadata": {
        "id": "tAfb6JEEpUnN"
      },
      "execution_count": null,
      "outputs": []
    },
    {
      "cell_type": "code",
      "source": [
        "# 59 Considere a lista de produtos abaixo e implemente duas soluções para somar o valor total deste carrinho de compras.\n",
        "\n",
        "# Dica: utilize List comprehension e/ou  loop for.\n",
        "lista_compras=[\n",
        "    {'nome':'feijão','preco':9.79},\n",
        "    {'nome':'arroz','preco':3.45},\n",
        "    {'nome':'carne','preco':20.93},\n",
        "    {'nome':'macarrão','preco':2.99},\n",
        "    {'nome':'vinagre','preco':2.25},\n",
        "    {'nome':'pimenta','preco':1.27},\n",
        "    {'nome':'batata','preco':5.67},\n",
        "    {'nome':'leite','preco':12},\n",
        "    {'nome':'manteiga','preco':7.99},\n",
        "    {'nome':'margarina','preco':2.5},\n",
        "    {'nome':'cenoura','preco':3.55},\n",
        "    {'nome':'sabão','preco':4.79},\n",
        "    {'nome':'chá','preco':3.45},\n",
        "    {'nome':'morango','preco':17.8},\n",
        "    {'nome':'soja','preco':20.2},\n",
        "    {'nome':'goiaba','preco':3.45},\n",
        "    {'nome':'melão','preco':5.12},\n",
        "]\n",
        "sum = 0\n",
        "valor = list(produto['preco'] for produto in lista_compras)\n",
        "for v in valor:\n",
        "  sum+=v\n",
        "print(f'O valor total dos produtos é de {sum:.2f}.')"
      ],
      "metadata": {
        "id": "Ck3KqBCKmoOM"
      },
      "execution_count": null,
      "outputs": []
    },
    {
      "cell_type": "markdown",
      "source": [
        "#**60**"
      ],
      "metadata": {
        "id": "XWFek9sHwhs3"
      }
    },
    {
      "cell_type": "code",
      "source": [
        "# 60 Considere a lista de produtos abaixo e implemente um programa que calcule e mostre na tela (nome e preço)\n",
        "# o produto mais caro e o produto mais barato, desta cesta de bens.\n",
        "lista_compras=[\n",
        "    {'nome':'feijão','preco':9.79},\n",
        "    {'nome':'arroz','preco':3.45},\n",
        "    {'nome':'carne','preco':20.93},\n",
        "    {'nome':'macarrão','preco':2.99},\n",
        "    {'nome':'vinagre','preco':2.25},\n",
        "    {'nome':'pimenta','preco':1.27},\n",
        "    {'nome':'batata','preco':5.67},\n",
        "    {'nome':'leite','preco':12},\n",
        "    {'nome':'manteiga','preco':7.99},\n",
        "    {'nome':'margarina','preco':2.5},\n",
        "    {'nome':'cenoura','preco':3.55},\n",
        "    {'nome':'sabão','preco':4.79},\n",
        "    {'nome':'chá','preco':3.45},\n",
        "    {'nome':'morango','preco':17.8},\n",
        "    {'nome':'soja','preco':20.2},\n",
        "    {'nome':'goiaba','preco':3.45},\n",
        "    {'nome':'melão','preco':5.12},\n",
        "]\n",
        "produto_caro = max(lista_compras,key=lambda mamao:mamao['preco'])# ele retorna o item todo da lista, que é um dicionario\n",
        "produto_barato = min(lista_compras,key=lambda bezerro:bezerro['preco'])\n",
        "print(f\"O produto mais caro é {produto_caro['nome'].title()} que custa {produto_caro['preco']:.2f}.\")\n",
        "print(f\"O produto mais barato é {produto_barato['nome'].title()} que custa {produto_barato['preco']:.2f}\")"
      ],
      "metadata": {
        "id": "ofyFb0yPrqnW"
      },
      "execution_count": null,
      "outputs": []
    },
    {
      "cell_type": "code",
      "source": [
        "# 61 Escreva um programa que peça 5 números inteiros não-nulos ao usuário e mostre na tela o quadrado de cada número digitado.\n",
        "num = [20,30,40,50,60]\n",
        "for x,y in enumerate(num):\n",
        "  print(f'O número {y} está na {x+1}ª posição.')"
      ],
      "metadata": {
        "id": "ZecF6bLuvrai"
      },
      "execution_count": null,
      "outputs": []
    },
    {
      "cell_type": "code",
      "source": [
        "# 61 Escreva um programa que peça 5 números inteiros não-nulos ao usuário e mostre na tela o quadrado de cada número digitado.\n",
        "num = []\n",
        "for x in range(5):\n",
        "    n = int(input('Digite um número inteiro.'))\n",
        "    num.append(n)\n",
        "for n in num:\n",
        "  print(f'O quadrado de {n} é {n**2}')"
      ],
      "metadata": {
        "id": "_Njg5yxOy4nc"
      },
      "execution_count": null,
      "outputs": []
    },
    {
      "cell_type": "code",
      "source": [
        "# 62 Considere um número inteiro positivo n especificado pelo usuário. Elabore um programa que calcule e mostre na tela:\n",
        "\n",
        "# A soma dos n primeiros números inteiros não-nulos (1+2+3+ ... +n) ;\n",
        "# A soma dos n primeiros números pares;\n",
        "# A soma dos n primeiros números ímpares.\n",
        "num=int(input('Digite um número inteiro positivo: '))\n",
        "soma=0\n",
        "soma_par=0\n",
        "soma_impar=0\n",
        " \n",
        "if num>0: \n",
        "    for i in range(1,num+1):\n",
        "        soma+=i \n",
        "        if i%2==0: \n",
        "            soma_par+=i  \n",
        "        if i%2!=0:  \n",
        "            soma_impar+=i  \n",
        "            \n",
        "        if i==num:  \n",
        "            print(f'Soma total: {soma}')\n",
        "            print(f'Soma dos números pares: {soma_par}')\n",
        "            print(f'Soma dos números ímpares: {soma_impar}')\n",
        "else:  \n",
        "    print('O valor inserido não é válido.')\n"
      ],
      "metadata": {
        "id": "TKliCn-k0CQY"
      },
      "execution_count": null,
      "outputs": []
    },
    {
      "cell_type": "code",
      "source": [
        "# 62 Considere um número inteiro positivo n especificado pelo usuário. Elabore um programa que calcule e mostre na tela:\n",
        "\n",
        "# A soma dos n primeiros números inteiros não-nulos (1+2+3+ ... +n) ;\n",
        "# A soma dos n primeiros números pares;\n",
        "# A soma dos n primeiros números ímpares.\n",
        "soma = 0\n",
        "soma_par = 0\n",
        "soma_impar = 0\n",
        "num = int(input('Digite um número inteiro positivo: '))\n",
        "if num > 0:\n",
        "  for x in range(1,num+1):\n",
        "    soma+=x\n",
        "    if x % 2 == 0:\n",
        "      soma_par+= x\n",
        "    elif x % 2 != 0:\n",
        "      soma_impar+=x\n",
        "else:\n",
        "  print('Número inválido')\n",
        "print(soma)\n",
        "print(soma_par)\n",
        "print(soma_impar)"
      ],
      "metadata": {
        "id": "FpJgEY091s7B"
      },
      "execution_count": null,
      "outputs": []
    },
    {
      "cell_type": "code",
      "source": [
        "# 63 Escreva um programa para checar se um determinado número é primo ou não.\n",
        "\n",
        "# Lembrete: um número primo pode ser dividido por apenas dois números, quais sejam: ele mesmo e o número um.\n",
        "\n",
        "# 2, 3, 5, 7, 11, 13, 17, 19, 23, 29, 31, 37, 41, 43, 47, 53, 59, 61, 67, 71, 73, 79, 83, 89 e 97  (Números primos entre 1 e 100)\n",
        "numero=int(input('Digite um número: '))\n",
        "if numero>1:\n",
        "    for k in range(2,numero):  \n",
        "        if numero%k==0:  #checar se o número é múltiplo de outro no intervalo [2,numero]\n",
        "            print(f'O número {numero} não é primo.')\n",
        "            break\n",
        "    else:  \n",
        "        print(f'O número {numero} é primo.')\n",
        "        \n",
        "else:\n",
        "    print(f'O número {numero} não é primo.')"
      ],
      "metadata": {
        "id": "tVtlkDiG3yt1"
      },
      "execution_count": null,
      "outputs": []
    },
    {
      "cell_type": "code",
      "source": [
        "# 64 Elabore um programa para imprimir todos os números primos existentes em um intervalo delimitado pelo usuário.\n",
        "num1=int(input('Número inferior do intervalo: '))\n",
        "num2=int(input('Número superior do intervalo: '))\n",
        " \n",
        "for numero in range(num1,num2+1):\n",
        "    if numero>1:\n",
        "        for k in range(2,numero):\n",
        "            if numero%k==0:\n",
        "                break\n",
        "        else:\n",
        "            print(numero,end='-')"
      ],
      "metadata": {
        "id": "xuPh0GGc4EvI"
      },
      "execution_count": null,
      "outputs": []
    },
    {
      "cell_type": "code",
      "source": [
        "# 65 Elabore um programa para imprimir a sequência de Fibonacci até o n-ésimo termo definido pelo usuário.\n",
        "# Certifique que o usuário digite um número inteiro positivo.\n",
        "\n",
        "# 0,1, 1, 2, 3, 5, 8, 13, 21, 34, 55, 89, 144, 233, 377, 610, 987, 1597, 2584,...\n",
        "n_termo=int(input('Deseja imprimir a sequência de Fibonacci até qual termo? '))\n",
        " \n",
        "num1,num2=0,1  #números iniciais da sequência\n",
        "contador=0\n",
        " \n",
        "if n_termo<=0:\n",
        "    print('O número deve ser positivo.')\n",
        "elif n_termo==1:\n",
        "    print(num1)\n",
        "else:\n",
        "    while contador<n_termo:\n",
        "        print(num1)\n",
        "        num1,num2=num2,num1+num2  #atualizando os valores\n",
        "        contador+=1"
      ],
      "metadata": {
        "id": "4xAMlo3d4SC_"
      },
      "execution_count": null,
      "outputs": []
    },
    {
      "cell_type": "code",
      "source": [
        "# 66 Escreva um programa que mostre na tela o tipo de cada dado da lista a seguir. Utilize a função built-in type.\n",
        "\n",
        "lista=[\n",
        "    (1,),\n",
        "    [1,2,3],\n",
        "    (1),\n",
        "    {4,5},\n",
        "    {'nome':'A','value':2},\n",
        "    10,\n",
        "    [],\n",
        "    1+3j,\n",
        "    1.2,\n",
        "    True,\n",
        "    False,\n",
        "    None,\n",
        "    'Hello World!',\n",
        "]\n",
        "for x in lista:\n",
        "  print(f'O tipo do dado {x} é {type(x)}')"
      ],
      "metadata": {
        "id": "ZVmGjwHi4hnO"
      },
      "execution_count": null,
      "outputs": []
    },
    {
      "cell_type": "code",
      "source": [
        "# 67 Escreva um programa para somar todos os números naturais em um intervalo definido pelo usuário.\n",
        "numero=int(input('Digite um número: '))\n",
        "soma=0\n",
        "if numero<0:\n",
        "    print('O número deve ser positivo.')\n",
        "else:\n",
        "    for i in range(numero+1):\n",
        "        soma+=i\n",
        "        \n",
        "    print(f'A soma é: {soma}')   "
      ],
      "metadata": {
        "id": "t7YQWkd246e-"
      },
      "execution_count": null,
      "outputs": []
    },
    {
      "cell_type": "code",
      "source": [
        "# 68 Escreva um programa que replique o padrão de caracteres descrito a seguir.\n",
        "\n",
        "# Dica: use loop for.\n",
        "\n",
        "# *\n",
        "# **\n",
        "# ***\n",
        "# ****\n",
        "# *****\n",
        "# ******\n",
        "# *******\n",
        "# ********\n",
        "# *********\n",
        "# **********\n",
        "# *********\n",
        "# ********\n",
        "# *******\n",
        "# ******\n",
        "# *****\n",
        "# ****\n",
        "# ***\n",
        "# **\n",
        "# *\n",
        "for i in range(1,10):\n",
        "  print('*'* i)\n",
        "for i in range(10,1,-1):\n",
        "  print('*'*i)"
      ],
      "metadata": {
        "id": "0XyVJjAQ5X1u"
      },
      "execution_count": null,
      "outputs": []
    },
    {
      "cell_type": "code",
      "source": [
        "# 69 Considere a lista abaixo e escreva um programa que mostre na tela a quantidade de números pares e ímpares.\n",
        "lista=[944, 52, 161, 436, 77, 217, \n",
        "616, 639, 280, 277, 907, 735, 321, \n",
        "194, 736, 130, 793, 148, 799, 631, \n",
        "906, 417, 186, 913, 446, 537, 86, 75, \n",
        "328, 77, 899, 481, 303, 997, 212, 217,\n",
        "696, 391, 402, 800, 709, 293, 9, 700, \n",
        "108, 253, 562, 166, 252, 315, 655, 680,\n",
        "944, 8, 850, 765, 821, 216, 685, 666,\n",
        "860, 32, 492, 880, 714, 424, 270, 308,\n",
        "641, 83, 555, 807, 840, 724, 193, 256, \n",
        "556, 665, 902, 714, 564, 13, 903, 625, 14, \n",
        "551, 301, 915, 633, 781, 427, 517, 372, \n",
        "164, 469, 194, 5, 818, 776,\n",
        "] \n",
        "\n",
        "lista_par = [x for x in lista if x % 2 == 0]\n",
        "lista_impar = [x for x in lista if x % 2 != 0]\n",
        "numpar = len(lista_par)\n",
        "numimpar = len(lista_impar)\n",
        "num = len(lista)\n",
        "numpar+numimpar == num"
      ],
      "metadata": {
        "id": "Te28M6Hc6m6v"
      },
      "execution_count": null,
      "outputs": []
    },
    {
      "cell_type": "code",
      "source": [
        "# 70 Escreva um programa para replicar o padrão descrito a seguir.\n",
        "\n",
        "\n",
        "\n",
        "# 1\n",
        "# 22\n",
        "# 333\n",
        "# 4444\n",
        "# 55555\n",
        "# 666666\n",
        "# 7777777\n",
        "# 88888888\n",
        "# 999999999\n",
        "# 10101010101010101010\n",
        "# 1111111111111111111111\n",
        "# 121212121212121212121212\n",
        "# 13131313131313131313131313\n",
        "# 1414141414141414141414141414\n",
        "# 151515151515151515151515151515\n",
        "# 16161616161616161616161616161616\n",
        "# 1717171717171717171717171717171717\n",
        "# 181818181818181818181818181818181818\n",
        "# 19191919191919191919191919191919191919\n",
        "# 2020202020202020202020202020202020202020\n",
        "for num in range(21):\n",
        "  print(f'{num}'*num)"
      ],
      "metadata": {
        "id": "RBuJ-nsz7g3r"
      },
      "execution_count": null,
      "outputs": []
    },
    {
      "cell_type": "markdown",
      "source": [
        "#**71**"
      ],
      "metadata": {
        "id": "kIhtdMBx8wzQ"
      }
    },
    {
      "cell_type": "code",
      "source": [
        "# 71 Escreva um programa que replique o padrão de números a seguir, tal que o usuário insira o n-ésimo termo.\n",
        "\n",
        "# 1 \n",
        "# 1 2 \n",
        "# 1 2 3 \n",
        "# 1 2 3 4 \n",
        "# 1 2 3 4 5 \n",
        "# 1 2 3 4 5 6 \n",
        "# 1 2 3 4 5 6 7 \n",
        "# 1 2 3 4 5 6 7 8 \n",
        "# 1 2 3 4 5 6 7 8 9 \n",
        "# 1 2 3 4 5 6 7 8 9 10 \n",
        "#       ...\n",
        "# 1 2 3 4 5 6 7 8 9 10 ... n\n",
        "num=int(input('N-ésimo termo: '))\n",
        "for i in range(1,num+1):\n",
        "    for j in range(1,i+1):\n",
        "        print(j,end=' ')\n",
        "    print()\n",
        "for i in range(num+1,1,-1):\n",
        "    for j in range(i+1,1,-1):\n",
        "        print(j,end=' ')\n",
        "    print()"
      ],
      "metadata": {
        "id": "M-Pwy8gW7-6N"
      },
      "execution_count": null,
      "outputs": []
    },
    {
      "cell_type": "markdown",
      "source": [
        "#**72**"
      ],
      "metadata": {
        "id": "AZceH6eB9I4C"
      }
    },
    {
      "cell_type": "code",
      "source": [
        "# 72 Ordene em ordem crescente/decrescente das músicas mais tocadas.\n",
        "#PARA O SORTED, UTILIZAR REVERSE!!!!!\n",
        "# Dica: use sorted().\n",
        "\n",
        "lista=[\n",
        "\t('Música3',{'toques':137}),\n",
        "\t('Música7',{'toques':2}),\n",
        "\t('Música11',{'toques':30}),\n",
        "\t('Música9',{'toques':45}),\n",
        "\t('Música10',{'toques':79}),\n",
        "\t('Música2',{'toques':190}),\n",
        "\t('Música8',{'toques':201}),\n",
        "\t('Música5',{'toques':44}),\n",
        "\t('Música1',{'toques':29}),\n",
        "\t('Música6',{'toques':14}),\n",
        "\t('Música4',{'toques':14}),\n",
        "]\n",
        "\n",
        "\n",
        "print(sorted(lista,key=lambda y:y[1]['toques']))\n",
        "print(sorted(lista,key=lambda z:z[1]['toques'],reverse=True))"
      ],
      "metadata": {
        "id": "RrA3ihO98vNu"
      },
      "execution_count": null,
      "outputs": []
    },
    {
      "cell_type": "code",
      "source": [
        "# 72 Ordene em ordem crescente/decrescente das músicas mais tocadas.\n",
        "\n",
        "# Dica: use sorted().\n",
        "\n",
        "lista=[\n",
        "\t('Música3',{'toques':137}),\n",
        "\t('Música7',{'toques':2}),\n",
        "\t('Música11',{'toques':30}),\n",
        "\t('Música9',{'toques':45}),\n",
        "\t('Música10',{'toques':79}),\n",
        "\t('Música2',{'toques':190}),\n",
        "\t('Música8',{'toques':201}),\n",
        "\t('Música5',{'toques':44}),\n",
        "\t('Música1',{'toques':29}),\n",
        "\t('Música6',{'toques':14}),\n",
        "\t('Música4',{'toques':14}),\n",
        "]\n",
        "for musica in sorted(lista,key=lambda musica:musica[1]['toques']):\n",
        "    print(musica[0],musica[1]['toques'])\n",
        "print()"
      ],
      "metadata": {
        "id": "9ko0Zz029Nl8"
      },
      "execution_count": null,
      "outputs": []
    },
    {
      "cell_type": "code",
      "source": [
        "# 73 Escreva um programa que gere 100 números aleatórios entre 1 e 1000 e armazene-os em uma lista.\n",
        "import random\n",
        "lista = []\n",
        "for x in range(1,100):\n",
        "  lista.append(random.randint(1,1000))\n",
        "print(lista)"
      ],
      "metadata": {
        "id": "37sFA3yJ9TjQ"
      },
      "execution_count": null,
      "outputs": []
    },
    {
      "cell_type": "code",
      "source": [
        "# 74 Escreva um programa que gere 100 números reais aleatórios entre 0 e 1 e armazene-os em uma lista. Ao final seu programa deverá mostrar na tela as seguintes informações:\n",
        "\n",
        "# Maior número;\n",
        "# Menor número;\n",
        "# Soma de todos os números gerados;\n",
        "# Média e desvio padrão.\n",
        "from random import random\n",
        "from statistics import mean,stdev\n",
        " \n",
        "lista=[]\n",
        " \n",
        "for num in range(1,101):\n",
        "    lista.append(random())\n",
        " \n",
        "print(f'Maior número: {max(lista)}')\n",
        "print(f'Menor número: {min(lista)}')\n",
        "# print(f'Soma dos números: {sum(lista)}')\n",
        "print(f'Média dos números gerados: {mean(lista)}')\n",
        "print(f'Desvio padrão dos números gerados: {stdev(lista)}')"
      ],
      "metadata": {
        "id": "B6SqVTUx8kVx"
      },
      "execution_count": null,
      "outputs": []
    },
    {
      "cell_type": "markdown",
      "source": [
        "#**75**"
      ],
      "metadata": {
        "id": "0rCPs-E5jPP8"
      }
    },
    {
      "cell_type": "code",
      "source": [
        "# 75 Utilize for para obter a inversão de uma cadeia de string. Exemplos:\n",
        "# UTILIZA O INDEX PORQUE É UMA STRING!\n",
        "# !\n",
        "# d\n",
        "# l\n",
        "# r\n",
        "# o\n",
        "# W\n",
        " \n",
        "# o\n",
        "# l\n",
        "# l\n",
        "# e\n",
        "# H\n",
        "string1='Hello World!'\n",
        "for index in range(len(string1)-1,-1,-1):\n",
        "    print(string1[index])\n",
        "    \n",
        "for index in range(len(string1)-1,-1,-1):\n",
        "    print(string1[index],end='')"
      ],
      "metadata": {
        "id": "Aj_XeTOL76vN"
      },
      "execution_count": null,
      "outputs": []
    },
    {
      "cell_type": "code",
      "source": [
        "# 76 Escreva um programa que some todos os elementos de uma lista.\n",
        "lista=[10,10,10,10]  #exemplo de lista\n",
        "soma=0\n",
        "for i in lista:\n",
        "    soma+=i\n",
        "print(soma)"
      ],
      "metadata": {
        "id": "Ix9R3lY--qH0"
      },
      "execution_count": null,
      "outputs": []
    },
    {
      "cell_type": "code",
      "source": [
        "# 77 Escreva um programa que multiplique todos os elementos de uma lista.\n",
        "lista=[10,10,10]\n",
        "mul=1\n",
        "for num in lista:\n",
        "    mul=mul*num\n",
        "print(mul)"
      ],
      "metadata": {
        "id": "xowXi7Lp7eyr"
      },
      "execution_count": null,
      "outputs": []
    },
    {
      "cell_type": "code",
      "source": [
        "# 78 Considere a lista abaixo e escreva um programa que multiplique todos os seus elementos.\n",
        "\n",
        "lista=[5,4,3,2,1]\n",
        "m=1\n",
        "for elemento in lista:\n",
        "    m=m*elemento"
      ],
      "metadata": {
        "id": "R4P6bA50mbyw"
      },
      "execution_count": null,
      "outputs": []
    },
    {
      "cell_type": "code",
      "source": [
        "# 79 Considere a lista abaixo e faça um programa que some todos os seus elementos. Tente implementar ao menos duas soluções.\n",
        "\n",
        "lista=[10,2,40,50,-2,3,100,21,33,29,123,234,32,88,90,23]\n",
        "#Solução 1\n",
        "# print(sum(lista))\n",
        "#Solução 2\n",
        " \n",
        "soma=0  #acumulador inicializado com valor zero\n",
        "for elemento in lista:\n",
        "    soma=soma+elemento  #podemos também usar a notação: soma+=elemento\n",
        "print(soma)"
      ],
      "metadata": {
        "id": "ytkkzau0mm4E"
      },
      "execution_count": null,
      "outputs": []
    },
    {
      "cell_type": "code",
      "source": [
        "# 80 Considere a lista abaixo e escreva um programa que mostre na tela o seu maior número.\n",
        "lista=[497, 186, 66, 198, 204, 339, 738, 743, \n",
        "       -80, 36, 887, 645, 312, 760, 574, 439, \n",
        "       164, 873, 125, 871, 901, 561, 5, -65, \n",
        "       -66, -51, 522, 306, -79, 577, 268, 240, \n",
        "       183, 217, 729, 202, 483, 464, 281, 6, \n",
        "       -44, 110, 670, 749, 846, 903, 15, 265, \n",
        "       596, -3, 534, -42, 528, 582, 552, 254, \n",
        "       780, 326, 816, -7, 859, 234, 898, 355, \n",
        "       706, 576, 968, 349, 649, 522, 466, 353, \n",
        "       940, 41, 141, 946, 317, 346, 256, 326, \n",
        "       546, 473, 270, 22, 102, 504, 421, 87, \n",
        "       570, 143, 519, 292, 382, 744, 525, 658, \n",
        "       725, 477, 413]\n",
        "max(lista)\n",
        "#Solução 2\n",
        "max_=lista[0]\n",
        "for num in lista:\n",
        "    if num>max_:\n",
        "        max_=num\n",
        "print(max_)"
      ],
      "metadata": {
        "id": "e8dh7PpP7a_n"
      },
      "execution_count": null,
      "outputs": []
    },
    {
      "cell_type": "code",
      "source": [
        "# 81 Considere a lista abaixo e escreva um programa que mostre na tela o seu menor número.\n",
        "\n",
        "lista=[497, 186, 66, 198, 204, 339, 738, 743, \n",
        "       -80, 36, 887, 645, 312, 760, 574, 439, \n",
        "       164, 873, 125, 871, 901, 561, 5, -65, \n",
        "       -66, -51, 522, 306, -79, 577, 268, 240, \n",
        "       183, 217, 729, 202, 483, 464, 281, 6, \n",
        "       -44, 110, 670, 749, 846, 903, 15, 265, \n",
        "       596, -3, 534, -42, 528, 582, 552, 254, \n",
        "       780, 326, 816, -7, 859, 234, 898, 355, \n",
        "       706, 576, 968, 349, 649, 522, 466, 353, \n",
        "       940, 41, 141, 946, 317, 346, 256, 326, \n",
        "       546, 473, 270, 22, 102, 504, 421, 87, \n",
        "       570, 143, 519, 292, 382, 744, 525, 658, \n",
        "       725, 477, 413]\n",
        "min(lista)\n",
        "#Solução 1\n",
        "min_=lista[0]\n",
        "for elemento in lista:\n",
        "    if elemento<min_:\n",
        "        min_=elemento\n",
        "        "
      ],
      "metadata": {
        "id": "Xde2tu6r6aSv"
      },
      "execution_count": null,
      "outputs": []
    },
    {
      "cell_type": "code",
      "source": [
        "# 82 Ordene os elementos das listas a seguir em ordem crescente e decrescente.\n",
        "lista1=[117, 1519, 1335, 1600, 1676, 1491, 868, \n",
        "        1149, 642, 1321, 509, 1296, 1936, 1014, \n",
        "        1114, 1197, 94, 1347, 1112, 1224, 351, \n",
        "        1498, 1028, 255, 937, 514, 1041, 1923, \n",
        "        913, 510, 868, 1195, 1218, 1489, 1920, \n",
        "        630, 666, 605, 515, 1219, 59, 1217, 1293, \n",
        "        487, 1095, 1730, 1115, 1465, 1506, 1881]\n",
        "\n",
        "lista2=['a','a','z','f',\n",
        "        'h','i','m','u',\n",
        "        'q','r','b','d',\n",
        "       ]\n",
        "print(sorted(lista1))\n",
        "print(sorted(lista2))\n",
        "lista1.sort()\n",
        " \n",
        "print(lista1)\n",
        " \n",
        "lista1.sort(reverse=True)\n",
        " \n",
        "print(lista1)"
      ],
      "metadata": {
        "id": "EyZX8Zxx6Ovg"
      },
      "execution_count": null,
      "outputs": []
    },
    {
      "cell_type": "code",
      "source": [
        "# 83 Considere a lista abaixo. Escreva um programa que obtenha uma lista ordenada a partir da lista1.\n",
        "# A ordenação deverá ser efetuada em ordem crescente pelo último elemento de cada tupla.\n",
        "lista1=[('a',21,10),('q',44,99),\n",
        "       ('z',321,11),('w',91,33),\n",
        "       ('f',33,-9),('h',88,42),\n",
        "       ('j',-100,1),('n',74,93),\n",
        "       ('k',11,7),('m',923,-10),\n",
        "       ('l',2,23),('v',612,57),\n",
        "       ('j',130,51),('x',40,88),\n",
        "       ('b',99,67),('u',30,49),\n",
        "       ('e',-120,-4),('i',40,21),\n",
        "      ]\n",
        "lista1=sorted(lista1,key=lambda elemento:elemento[2])\n",
        "print(lista1)"
      ],
      "metadata": {
        "id": "pED6OGGN6GYS"
      },
      "execution_count": null,
      "outputs": []
    },
    {
      "cell_type": "code",
      "source": [
        "# 84 A partir da lista abaixo calcule e mostre na tela:\n",
        "\n",
        "# Maior número;\n",
        "# Menor número;\n",
        "# Soma de todos os elementos da lista;\n",
        "# Quantidade de elementos da lista;\n",
        "# Média aritmética;\n",
        "# Moda (considere a possibilidade de uma amostra multimodal - ou seja, quando há várias modas);\n",
        "# Mediana;\n",
        "# Variância;\n",
        "# Desvio padrão.\n",
        "\n",
        "lista=[-1505, 2518, 2333, 4682, -1740, 1067, 995,22,\n",
        "       -1153, -4098, 4560, 2958, 3640, -4154, 2345,4, \n",
        "       -1601, 158, -4044, -98, 707, 359, -3088, 527, \n",
        "       -3004, -4045, 563, -4137, 4598, -3862, 488, -1, \n",
        "       3445, 3820, 504, -1475, 1626, -1252, 2059, 16, \n",
        "       -1472, 2610, -4643, 2912, -2517, -4604, -1476, \n",
        "       3950, -4640, -229, 229, -3452, 4309, 2356, 66, \n",
        "       3728, -1846, -635, -3581, 4457, -2592, -1066, \n",
        "       -1006, -164, 805, -4500, -455, 2245, -4959, \n",
        "       -2415, 2038, 4512, 1243, 349, -1153, 3623, 631, \n",
        "       2209, -3349, -2417, 4429, -1324, -4101, -1354, \n",
        "       4400, -4968, -4433, 2042, 904, 932, 1331, 4955, \n",
        "       -3775, -333, 1012, 2192, -161, -224, 1505, -1615, \n",
        "       -2165, 3666, -4253, -358, -3939, -2641, 1228, \n",
        "       -608, -2280, 4939, -3355, 1340, -57, 3346, 2686, \n",
        "       -1572, 1991, -2351, -3972, -1683, -1509, -2488, \n",
        "       266, -2991, -795, -4032, 2397, 2391, 3654, -1044, \n",
        "       -2204, -2440, -1280, 2714, -4151, -1951, 3684, \n",
        "       -4251, 3748, -4359, -1436, -2190, 4538, -3563, \n",
        "       1542, 1926, -3940, -2274, -4223, 2504, -4112, 2388,\n",
        "]\n",
        "# from statistics import median,mode,variance,stdev\n",
        "# print(f'Maior número: {max(lista)}')\n",
        "# print(f'Menor número: {min(lista)}')\n",
        "# print(f'Soma de todos os elementos da lista: {sum(lista)}')\n",
        "# print(f'Quantidade de elementos da lista: {len(lista)}')\n",
        "# print(f'Média aritmética: {sum(lista)/len(lista):.2f}')\n",
        "# print(f'Mediana: {median(lista)}')\n",
        "# print(f'Variância: {variance(lista):.2f}')\n",
        "# print(f'Desvio padrão: {stdev(lista):.2f}')"
      ],
      "metadata": {
        "id": "jpiLM9AGn5Ty"
      },
      "execution_count": null,
      "outputs": []
    },
    {
      "cell_type": "code",
      "source": [
        "# 85  Considere a lista a seguir e escreva um programa para remover os elementos duplicados.\n",
        "\n",
        "lista=[\n",
        "    'a','a','a',\n",
        "    'b','c','k',\n",
        "    'a',1,2,3,4,\n",
        "    'j','l','m',\n",
        "]\n",
        "lista=list(set(lista))\n",
        "print(lista)"
      ],
      "metadata": {
        "id": "BNWR6E476DiF"
      },
      "execution_count": null,
      "outputs": []
    },
    {
      "cell_type": "code",
      "source": [
        "# 86 Utilize a função range() e escreva uma lista com uma série de 1950 a 2020\n",
        "\n",
        "serie=list(range(1951,2021))\n",
        "print(serie)"
      ],
      "metadata": {
        "id": "CZoR_iYk5vIe"
      },
      "execution_count": null,
      "outputs": []
    },
    {
      "cell_type": "code",
      "source": [
        "# 87 Considere a lista a seguir, que apresenta dados referentes a série temporal de 1900 a 2020. Faça o que se pede:\n",
        "\n",
        "\n",
        "\n",
        "lista_anos=[1900, 1901, 1902, 1903, 1904, 1905, 1906, 1907, \n",
        "            1908, 1909, 1910, 1911, 1912, 1913, 1914, 1915, \n",
        "            1916, 1917, 1918, 1919, 1920, 1921, 1922, 1923, \n",
        "            1924, 1925, 1926, 1927, 1928, 1929, 1930, 1931, \n",
        "            1932, 1933, 1934, 1935, 1936, 1937, 1938, 1939,\n",
        "            1940, 1941, 1942, 1943, 1944, 1945, 1946, 1947, \n",
        "            1948, 1949, 1950, 1951, 1952, 1953, 1954, 1955, \n",
        "            1956, 1957, 1958, 1959, 1960, 1961, 1962, 1963, \n",
        "            1964, 1965, 1966, 1967, 1968, 1969, 1970, 1971, \n",
        "            1972, 1973, 1974, 1975, 1976, 1977, 1978, 1979, \n",
        "            1980, 1981, 1982, 1983, 1984, 1985, 1986, 1987, \n",
        "            1988, 1989, 1990, 1991, 1992, 1993, 1994, 1995, \n",
        "            1996, 1997, 1998, 1999, 2000, 2001, 2002, 2003, \n",
        "            2004, 2005, 2006, 2007, 2008, 2009, 2010, 2011,\n",
        "            2012, 2013, 2014, 2015, 2016, 2017, 2018, 2019,\n",
        "            2020]\n",
        "\n",
        "\n",
        "# a) Crie uma lista  que armazene os 20 primeiros anos da série;\n",
        "lista = list(lista_anos[:20])\n",
        "lista\n",
        "# b) Crie uma lista que armazene os anos de 1937 a 1969;\n",
        "lista2=lista_anos[37:70]\n",
        "# c) Crie uma lista que armazene os anos de 2010 a 2020;\n",
        "lista3=lista_anos[-11:]\n",
        "# d) Crie uma lista que armazene o último ano da série;\n",
        "lista4=lista_anos[-1]\n",
        "# e) Apresente a série temporal de 10 em 10 anos.\n",
        "lista5=lista_anos[::10]"
      ],
      "metadata": {
        "id": "QIB_F0Ee5Szw"
      },
      "execution_count": null,
      "outputs": []
    },
    {
      "cell_type": "code",
      "source": [
        "# 88 A partir da lista abaixo obtenha apenas a string \"Python\".\n",
        "lista=[\n",
        "    'a','b','c',([\n",
        "        [[[[['a'],[-90,33,33,['Python']],[0,1,2]],[4,4]],[],'u'],[]]\n",
        "    ]),{'a':1,'c':2},3\n",
        "]\n",
        "lista[3][0][0][0][0][1][3][0]"
      ],
      "metadata": {
        "id": "DzpOqLwL44cF"
      },
      "execution_count": null,
      "outputs": []
    },
    {
      "cell_type": "code",
      "source": [
        "# 89 Verifique se uma lista é vazia ou não. Caso a lista seja vazia, mostre True na tela, caso contrário False.\n",
        "lista1= []\n",
        "lista2 = [25,50]\n",
        "if len(lista2)==0:\n",
        "  print('lista vazia')\n",
        "else:\n",
        "  print('lista normal')"
      ],
      "metadata": {
        "id": "WxiH8vPS41Tr"
      },
      "execution_count": null,
      "outputs": []
    },
    {
      "cell_type": "code",
      "source": [
        "# 90 Crie uma tupla com um único elemento e verifique o objeto criado com a função type.\n",
        "tupla = (90,50)\n",
        "type(tupla)"
      ],
      "metadata": {
        "id": "Lb9BL_Hj4yJP"
      },
      "execution_count": null,
      "outputs": []
    },
    {
      "cell_type": "code",
      "source": [
        "# 91 Considere a tupla1 e responda as seguintes questões:\n",
        "tupla1=('A','B','A','Z','Z','X','A','E','K','G','H')\n",
        "# a) mostre na tela o tamanho desta tupla;\n",
        "print(len(tupla1))\n",
        "# b) ordene a tupla e mostre o resultado na tela;\n",
        "print(sorted(tupla1))\n",
        "# c) mostre na tela o número de ocorrências da string 'A';\n",
        "print(tupla1.count('A'))\n",
        "# d) mostre na tela o número de ocorrências da string 'B';\n",
        "print(tupla1.count('B'))\n",
        "# e) mostre na tela o índice da string 'X';\n",
        "print(tupla1.index('X'))\n",
        "# f) mostre na tela o último elemento da tupla1.\n",
        "print(tupla1[-1])\n"
      ],
      "metadata": {
        "id": "5GX-tSKz4OQT"
      },
      "execution_count": null,
      "outputs": []
    },
    {
      "cell_type": "code",
      "source": [
        "# 92 Mude a chave 'valor' do dicionário produto1 para 99.98.\n",
        "produto1={\n",
        "    'nome':'produto1',\n",
        "    'tipo':'categoriaA',\n",
        "    'valor':'50.5',\n",
        "    'fornecedor':'ABCD',\n",
        "}\n",
        "produto1['valor'] = 99.98\n",
        "print(produto1)\n"
      ],
      "metadata": {
        "id": "TN2GJnhu3oQy"
      },
      "execution_count": null,
      "outputs": []
    },
    {
      "cell_type": "markdown",
      "source": [
        "#**93**"
      ],
      "metadata": {
        "id": "0xt7E7zRsP3H"
      }
    },
    {
      "cell_type": "code",
      "source": [
        "# 93 Crie um script para iterar no dicionário abaixo e mostrar na tela todas as suas chaves, uma a uma.\n",
        "\n",
        "produto1={\n",
        "    'nome':'produto1',\n",
        "    'tipo':'categoriaA',\n",
        "    'valor':'50.5',\n",
        "    'fornecedor':'ABCD',\n",
        "}\n",
        "\n",
        "# Output:\n",
        "\n",
        "# nome\n",
        "# tipo\n",
        "# valor\n",
        "# fornecedor\n",
        "for chave in produto1:\n",
        "    print(chave)\n",
        "print()\n",
        "\n",
        "\n",
        "\n",
        "# 18.2 Crie um script para iterar no dicionário produto1 e mostrar na tela todos os seus valores, um a um.\n",
        "\n",
        "# Output:\n",
        "for chave in produto1:\n",
        "  print(produto1[chave])\n",
        "print()\n",
        "\n",
        "\n",
        "# produto1\n",
        "# categoriaA\n",
        "# 50.5\n",
        "# ABCD\n",
        "\n",
        "\n",
        "# 18.3 Crie um script para iterar no dicionário produto1 e mostrar chave,valor na tela.\n",
        "\n",
        "# Output:\n",
        "\n",
        "\n",
        "\n",
        "# nome produto1\n",
        "# tipo categoriaA\n",
        "# valor 50.5\n",
        "# fornecedor ABCD\n",
        "# Dica: utilize o método items().\n",
        "for chave,valor in produto1.items():\n",
        "    print(chave,valor)\n",
        "\n"
      ],
      "metadata": {
        "id": "3NLAx9RH3I1o"
      },
      "execution_count": null,
      "outputs": []
    },
    {
      "cell_type": "code",
      "source": [
        "# 94 Utilize Compreensão em Lista (List Comprehensions) para criar a lista a seguir.\n",
        "lista = [x for x in range(10)]\n",
        "lista"
      ],
      "metadata": {
        "id": "1R1eCczby3AI"
      },
      "execution_count": null,
      "outputs": []
    },
    {
      "cell_type": "code",
      "source": [
        "# 95 Utilize Compreensão em Lista (List Comprehension) para criar a lista a seguir.\n",
        "# Observe que esses números são obtidos através do quadrado de cada número no intervalo [0,9].\n",
        "lista = [x**2 for x in range(10)]\n",
        "lista"
      ],
      "metadata": {
        "id": "bhMUiLB6ynst"
      },
      "execution_count": null,
      "outputs": []
    },
    {
      "cell_type": "code",
      "source": [
        "# 96 Utilize Compreensão em Lista (List Comprehension) para criar a lista a seguir.\n",
        "# Observe que esses números são obtidos através da raiz quadrada de cada número no intervalo [1,50].\n",
        "# Utilize round() para arredondar as casas decimais.\n",
        "lista = [round((x**(1/2)),2) for x in range(1,50)]\n",
        "print(lista)"
      ],
      "metadata": {
        "id": "1pLsfAnDyBGF"
      },
      "execution_count": null,
      "outputs": []
    },
    {
      "cell_type": "code",
      "source": [
        "# 97 Utilize Compreensão em Lista (List Comprehensions) para criar as listas a seguir.\n",
        "\n",
        "# [0, 5, 10, 15, 20, 25, 30, 35, 40, 45, 50, 55, 60, 65, 70, 75, 80, 85, 90, 95, 100]\n",
        "lista = [x for x in range(101) if x % 5 == 0]\n",
        "print(lista)\n",
        "\n",
        "# [0, 7, 14, 21, 28, 35, 42, 49, 56, 63, 70, 77, 84, 91, 98, 105, 112, 119, 126, 133, 140\n",
        "#  , 147, 154, 161, 168, 175, 182, 189, 196, 203, 210, 217, 224, 231, 238, 245, 252, 259, \n",
        "#  266, 273, 280, 287, 294, 301, 308, 315, 322, 329, 336, 343, 350, 357, 364, 371, 378, \n",
        "#  385, 392, 399, 406, 413, 420, 427, 434, 441, 448, 455, 462, 469, 476, 483, 490, 497, \n",
        "#  504, 511, 518, 525, 532, 539, 546, 553, 560, 567, 574, 581, 588, 595, 602, 609, 616, 623, \n",
        "#  630, 637, 644, 651, 658, 665, 672, 679, 686, 693, 700, 707, 714, 721, 728, 735, 742, 749, \n",
        "#  756, 763, 770, 777, 784, 791, 798, 805, 812, 819, 826, 833, 840, 847, 854, 861, 868, 875, \n",
        "#  882, 889, 896, 903, 910, 917, 924, 931, 938, 945, 952, 959, 966, 973, 980, 987, 994]\n",
        "lista1 = [x for x in range(1000) if x % 7 == 0]\n",
        "print(lista1)"
      ],
      "metadata": {
        "id": "NKgdIzNbx9qe"
      },
      "execution_count": null,
      "outputs": []
    },
    {
      "cell_type": "code",
      "source": [
        "# 98 Utilize Compreensão em Lista (List Comprehension) para criar a lista a seguir.\n",
        "\n",
        "# [1, 3, 5, 7, 9]\n",
        "lista = [x for x in range(10) if x%2!= 0]\n",
        "lista"
      ],
      "metadata": {
        "id": "w2wO7q9Fx75r"
      },
      "execution_count": null,
      "outputs": []
    },
    {
      "cell_type": "code",
      "source": [
        "# 99 Utilize Compreensão em Lista (List Comprehensions) para criar as listas a seguir.\n",
        "\n",
        "# Lembre que:\n",
        "\n",
        "# [f(x) for x in sequence if condition]\n",
        "# [f(x) if condition else g(x) for x in sequence]\n",
        "par=[numero for numero in range(1,101) if numero%2==0]\n",
        "impar=[numero for numero in range(1,101) if numero%2!=0]"
      ],
      "metadata": {
        "id": "omDjidtExyzL"
      },
      "execution_count": null,
      "outputs": []
    },
    {
      "cell_type": "markdown",
      "source": [
        "#**100_LIST COMPREHENSION**\n",
        "[f(x) for x in sequence if condition]\n",
        "[f(x) if condition else g(x) for x in sequence]"
      ],
      "metadata": {
        "id": "j4zGBbmax4XI"
      }
    },
    {
      "cell_type": "code",
      "source": [
        "# 100 Utilize Compreensão em Lista (List Comprehension) para criar a lista a seguir. Condição: eleve o número ao quadrado se for par;\n",
        "# se o número for ímpar calcule a raiz quadrada - utilize round() para arredondar as casas decimais.\n",
        "# COLOCAMOS O IF ANTES DA FUNCAO\n",
        "\n",
        "lista2=[numero**2 if numero%2==0 else round(numero**0.5,2) for numero in range(1,51)]\n",
        "print(lista2)"
      ],
      "metadata": {
        "id": "R7leXQdAxkFq"
      },
      "execution_count": null,
      "outputs": []
    },
    {
      "cell_type": "markdown",
      "source": [
        "#**101_LIST COMPREHENSION**\n",
        "[(x, y) for x in [1,2,3] for y in [3,1,4] if x != y]"
      ],
      "metadata": {
        "id": "L3uDdNqwyw_T"
      }
    },
    {
      "cell_type": "code",
      "source": [
        "# 101 Utilize Compreensão em Lista (List Comprehension) para criar a lista a seguir. Ademais, tente resolver este problema sem usar Compreensão em Lista.\n",
        "\n",
        "# [(1, 3), (1, 4), (2, 3), (2, 1), (2, 4), (3, 1), (3, 4)]\n",
        "\n",
        "lista2=[(x, y) for x in [1,2,3] for y in [3,1,4] if x != y]\n"
      ],
      "metadata": {
        "id": "CFzbVYzTwSDL"
      },
      "execution_count": null,
      "outputs": []
    },
    {
      "cell_type": "code",
      "source": [
        "# 102 Utilize Compreensão em Lista (List Comprehension) para criar a lista a seguir. Ademais, tente resolver este problema sem usar Compreensão em Lista.\n",
        "\n",
        "# [(1, 3), (1, 4), (2, 3), (2, 1), (2, 4), (3, 1), (3, 4)]\n",
        "lista2=[(x, y) for x in [1,2,3] for y in [3,1,4] if x != y]\n",
        "lista2"
      ],
      "metadata": {
        "id": "TNv9Bx6FLjYA"
      },
      "execution_count": null,
      "outputs": []
    },
    {
      "cell_type": "code",
      "source": [
        "# 103 A partir das listas\n",
        "\n",
        "linguagens=['php','JavaScript']\n",
        "frases=['Eu amo ','Eu odeio ']\n",
        "\n",
        "# Use List Comprehension e obtenha a seguinte lista:\n",
        "\n",
        "# ['Eu amo php !', 'Eu odeio php !', 'Eu amo JavaScript !', 'Eu odeio JavaScript !']\n",
        "\n",
        "# Por fim, tente implementar uma solução sem List Comprehension.\n",
        "lista2=[frase+linguagem+' !' for linguagem in linguagens for frase in frases]\n",
        "lista2"
      ],
      "metadata": {
        "id": "PKPO8g6Vkf31"
      },
      "execution_count": null,
      "outputs": []
    },
    {
      "cell_type": "code",
      "source": [
        "# 104 - A partir da lista\n",
        "\n",
        "# lista=[3, -31, -70, -55, 1, -76, -15, -14, -75, -53, 42, 12, -27, -92, -83, -9, 6, 9, -46, -48, -17, -69, 15, -1, 9, 6, -89, -36, 15, -24, 49, -31, -25, -71, 43, 20, -67, 18, -3, 8, -60, -73, 22, -52, 5, -15, 48, 21, -23, 6, 0]\n",
        "# Use List Comprehension e obtenha:\n",
        "\n",
        "# [3, 1, 42, 12, 6, 9, 15, 9, 6, 15, 49, 43, 20, 18, 8, 22, 5, 48, 21, 6, 0]"
      ],
      "metadata": {
        "id": "gODNFdzFmaaA"
      },
      "execution_count": null,
      "outputs": []
    },
    {
      "cell_type": "code",
      "source": [
        "lista=[3, -31, -70, -55, 1, -76, -15, -14, \n",
        "       -75, -53, 42, 12, -27, -92, -83, -9,\n",
        "       6, 9, -46, -48, -17, -69, 15, -1, 9, \n",
        "       6, -89, -36, 15, -24, 49, -31, -25, \n",
        "       -71, 43, 20, -67, 18, -3, 8, -60, -73, \n",
        "       22, -52, 5, -15, 48, 21, -23, 6, 0]\n",
        " \n",
        "numeros=[numero for numero in lista if numero>=0]\n",
        "numeros"
      ],
      "metadata": {
        "id": "l57FjdSNkf6N"
      },
      "execution_count": null,
      "outputs": []
    },
    {
      "cell_type": "code",
      "source": [
        "# 105 - A partir da lista\n",
        "\n",
        "# lista=[3, -31, -70, -55, 1, -76, -15, -14, -75, -53, 42, 12, -27, -92, -83, -9, 6, 9, -46, -48, -17, -69, 15, -1, 9, 6, -89, -36, 15, -24, 49, -31, -25, -71, 43, 20, -67, 18, -3, 8, -60, -73, 22, -52, 5, -15, 48, 21, -23, 6, 0]\n",
        "# Use List Comprehension e obtenha:\n",
        "\n",
        "# [3, 31, 70, 55, 1, 76, 15, 14, 75, 53, 42, 12, 27, 92, 83, 9, 6, 9, 46, 48, 17, 69, 15, 1, 9, 6, 89, 36, 15, 24, 49, 31, 25, 71, 43, 20, 67, 18, 3, 8, 60, 73, 22, 52, 5, 15, 48, 21, 23, 6, 0]"
      ],
      "metadata": {
        "id": "tei0KSsdmipE"
      },
      "execution_count": null,
      "outputs": []
    },
    {
      "cell_type": "code",
      "source": [
        "lista=[3, -31, -70, -55, 1, -76, -15, -14, \n",
        "       -75, -53, 42, 12, -27, -92, -83, -9,\n",
        "       6, 9, -46, -48, -17, -69, 15, -1, 9, \n",
        "       6, -89, -36, 15, -24, 49, -31, -25, \n",
        "       -71, 43, 20, -67, 18, -3, 8, -60, -73, \n",
        "       22, -52, 5, -15, 48, 21, -23, 6, 0]\n",
        " \n",
        "numeros=[abs(numero) for numero in lista]\n",
        "print(numeros)"
      ],
      "metadata": {
        "id": "9YS2JtS9lgFP"
      },
      "execution_count": null,
      "outputs": []
    },
    {
      "cell_type": "code",
      "source": [
        "# 106 - A partir da lista\n",
        "\n",
        "# frutas=['  BaNanA    ', '  morangO ', ' mAçã  ','   MeLão']\n",
        "# Use List Comprehension e obtenha as seguintes listas:\n",
        "\n",
        "\n",
        "\n",
        "# ['Eu gosto de Banana !', 'Eu gosto de Morango !', 'Eu gosto de Maçã !', 'Eu gosto de Melão !']\n",
        "# ['BANANA', 'MORANGO', 'MAÇÃ', 'MELÃO']\n",
        "# ['banana', 'morango', 'maçã', 'melão']"
      ],
      "metadata": {
        "id": "U1m5QMr2mpAw"
      },
      "execution_count": null,
      "outputs": []
    },
    {
      "cell_type": "code",
      "source": [
        "frutas=['  BaNanA    ', '  morangO ', ' mAçã  ','   MeLão']\n",
        "frutas1=['Eu gosto de '+fruta.strip().capitalize()+' !' for fruta in frutas]\n",
        "frutas2=[fruta.strip().upper() for fruta in frutas]\n",
        "frutas3=[fruta.strip().lower() for fruta in frutas]\n",
        "print(frutas1)\n",
        "print(frutas2)\n",
        "print(frutas3)"
      ],
      "metadata": {
        "id": "L0MUx-Hzkf8m"
      },
      "execution_count": null,
      "outputs": []
    },
    {
      "cell_type": "code",
      "source": [
        "# 107 Utilize Compreensão em Lista (List Comprehension) para criar as listas a seguir.\n",
        "\n",
        "\n",
        "\n",
        "# a)\n",
        "\n",
        "# [(5, 0), (6, 1), (7, 2), (8, 3), (9, 4), (10, 5), (11, 6), (12, 7), (13, 8), (14, 9)]\n",
        "\n",
        "\n",
        "# b)\n",
        "\n",
        "# [(0, 0), (1, 1), (2, 4), (3, 9), (4, 16), (5, 25), (6, 36), (7, 49), (8, 64), (9, 81)]\n",
        "\n",
        "lista1=[(indice,valor) for indice,valor in enumerate(range(10),start=5)]\n",
        "print(lista1)\n",
        "lista2 = [(x,x**2) for x in range(9)]\n",
        "print(lista2)"
      ],
      "metadata": {
        "id": "yVPWtM5Wkf_j"
      },
      "execution_count": null,
      "outputs": []
    },
    {
      "cell_type": "code",
      "source": [
        "# 108 A partir da lista\n",
        "\n",
        "# matriz=[[1,2,3], [4,5,6], [7,8,9]]\n",
        "# Use List Comprehension e obtenha:\n",
        "\n",
        "# [1, 2, 3, 4, 5, 6, 7, 8, 9]\n",
        "\n",
        "\n",
        "# Na sequência utilize a função sum() para obter a soma destes números.\n",
        "matrix = [[1,2,3], [4,5,6], [7,8,9]]\n",
        "lista=[numero for linha in matrix for numero in linha]\n",
        "soma=sum(lista)\n",
        "lista"
      ],
      "metadata": {
        "id": "bXtxUNmtkgB4"
      },
      "execution_count": null,
      "outputs": []
    },
    {
      "cell_type": "code",
      "source": [
        "# 109 Utilize compreensão de dicionários para construir os dicionários abaixo.\n",
        "\n",
        "# a) Crie um dicionário em que suas chaves serão os números 1, 4, 5, 6, 7, 9 (que podem ser armazenados em uma lista) e seus valores correspondem ao quadrado destes números.\n",
        "# {1: 1, 4: 16, 5: 25, 6: 36, 7: 49, 9: 81}\n",
        "dicionario1 = {numero:numero**2 for numero in [1, 4, 5, 6, 7, 9]}#primeiro chave,segundo o valor\n",
        "print(dicionario1)\n",
        "\n",
        "# b) Crie um dicionário em que suas chaves correspondem a números inteiros entre [1,10] e cada valor associado é o número ao quadrado.\n",
        "# {1: 1, 2: 4, 3: 9, 4: 16, 5: 25, 6: 36, 7: 49, 8: 64, 9: 81, 10: 100}\n",
        "dicionario2 = {x:x**2 for x in range(1,11)}\n",
        "print(dicionario2)\n",
        "\n",
        "# c) Crie um dicionário em que suas chaves correspondem a números de 10 a 1 e seus respectivos valores denotam o cubo de cada chave.\n",
        "# {10: 1000, 9: 729, 8: 512, 7: 343, 6: 216, 5: 125, 4: 64, 3: 27, 2: 8, 1: 1}\n",
        "dicionario3 = {y:y**3 for y in range(10,0,-1)}\n",
        "print(dicionario3)"
      ],
      "metadata": {
        "id": "UyuHeo8YkgEZ"
      },
      "execution_count": null,
      "outputs": []
    },
    {
      "cell_type": "code",
      "source": [
        "# 110 A partir da lista\n",
        "\n",
        "# linguagens = ['python', 'javascript', 'java', 'php', 'c', 'julia']\n",
        "\n",
        "# Use Dict Comprehension para construir o dicionário abaixo:   \n",
        "\n",
        "# {'python': 6, 'javascript': 10, 'java': 4, 'php': 3, 'c': 1, 'julia': 5}\n",
        "linguagens = ['python', 'javascript', 'java', 'php', 'c', 'julia']\n",
        "dicionario4 = {palavra:len(palavra) for palavra in linguagens}\n",
        "print(dicionario4)"
      ],
      "metadata": {
        "id": "sXp5nxZ3kgHH"
      },
      "execution_count": null,
      "outputs": []
    },
    {
      "cell_type": "code",
      "source": [
        "# 111 A partir da lista\n",
        "\n",
        "\n",
        "# frutas = ['  Banana  ', ' Laranja   ', '  Maçã', ' Melão ']\n",
        "# Use Dict Comprehension para construir o dicionário abaixo:\n",
        "# {'1': 'Banana', '2': 'Laranja', '3': 'Maçã', '4': 'Melão'}\n",
        "frutas = ['  Banana  ', ' Laranja   ', '  Maçã', ' Melão ']\n",
        "dic5 = {str(i):fruta.strip() for i,fruta in enumerate(frutas,start=1)}\n",
        "dic5"
      ],
      "metadata": {
        "id": "jIpq9yCzkgJZ"
      },
      "execution_count": null,
      "outputs": []
    },
    {
      "cell_type": "code",
      "source": [
        "# 112 Utilize compreensão de dicionários para construir o dicionário abaixo.\n",
        "\n",
        "\n",
        "\n",
        "# {'chave1': 1, 'chave2': 4, 'chave3': 9, 'chave4': 16, 'chave5': 25, 'chave6': 36, 'chave7': 49, 'chave8': 64, 'chave9': 81}\n",
        "\n",
        "dic6 = {'chave'+str(x):x**2 for x in range(1,10)}\n",
        "print(dic6)"
      ],
      "metadata": {
        "id": "c1yMiteJkgMD"
      },
      "execution_count": null,
      "outputs": []
    },
    {
      "cell_type": "code",
      "source": [
        "# 113 Utilize compreensão de dicionários para construir o dicionário abaixo.\n",
        "\n",
        "# {'A': 1, 'B': 2, 'C': 6, 'D': 24, 'E': 120}\n",
        "\n",
        "# Dica: observe que o valor associado a cada chave corresponde ao fatorial de cada número no intervalo [1,5].\n",
        "from math import factorial\n",
        "dicionario = {chr(64+i):factorial(i)  for i in range(1,6)}\n",
        "dicionario"
      ],
      "metadata": {
        "id": "i5sdCSgakgOb"
      },
      "execution_count": null,
      "outputs": []
    },
    {
      "cell_type": "code",
      "source": [
        "# 114 A partir das listas\n",
        "\n",
        "\n",
        "# empresa = ['ABEV3', 'AZUL4', 'BTOW3', 'RENT3', 'JBSS3']\n",
        "# precos = [12.85, 22.55, 115.08, 49.03, 24.41] \n",
        "\n",
        "# Utilize compreensão de dicionários e obtenha:\n",
        "\n",
        "# {'ABEV3': 12.85, 'AZUL4': 22.55, 'BTOW3': 115.08, 'RENT3': 49.03, 'JBSS3': 24.41}\n",
        "empresa = ['ABEV3', 'AZUL4', 'BTOW3', 'RENT3', 'JBSS3']\n",
        "precos = [12.85, 22.55, 115.08, 49.03, 24.41] \n",
        "\n",
        "dic7 = {x:y for x in empresa for y in precos}\n",
        "print(dic7)"
      ],
      "metadata": {
        "id": "R94vKjdkr6uP"
      },
      "execution_count": null,
      "outputs": []
    },
    {
      "cell_type": "code",
      "source": [
        "# 115 Do dicionário abaixo:\n",
        "\n",
        "# dados = {12.85: 'ABEV3', 22.55: 'AZUL4', 115.08: 'BTOW3', 49.03: 'RENT3', 24.41: 'JBSS3'}\n",
        "\n",
        "# Utilize compreensão de dicionários e obtenha:\n",
        "\n",
        "dic8 = {'ABEV3': 12.85, 'AZUL4': 22.55, 'BTOW3': 115.08, 'RENT3': 49.03, 'JBSS3': 24.41}\n",
        "dic9 = {k:v for v,k in dic8.items()}\n",
        "print(dic9)"
      ],
      "metadata": {
        "id": "dE5_AZHDr6wT"
      },
      "execution_count": null,
      "outputs": []
    },
    {
      "cell_type": "code",
      "source": [
        "# 116 Use compreensão de dicionários e obtenha os dicionários a seguir:\n",
        "\n",
        "# a)\n",
        "\n",
        "# {2: 1.0, 4: 2.0, 6: 2.585, 8: 3.0, 10: 3.322, 12: 3.585, 14: 3.807, 16: 4.0, 18: 4.17, 20: 4.322}\n",
        "\n",
        "# Dica: este dicionário calcula o logaritmo de base 2 para todos os números pares no intervalo [1,20].\n",
        "\n",
        "# b)\n",
        "\n",
        "# {'C': 3, 'E': 5, 'F': 6, 'I': 9, 'J': 10, 'L': 12, 'O': 15, 'R': 18, 'T': 20}\n",
        "#a)\n",
        "from math import log\n",
        "dicionario1 = {numero:round(log(numero, 2), 3) for numero in range(1,21) if numero%2==0}\n",
        "print(dicionario1)\n",
        "#b)\n",
        " \n",
        "dicionario2 = {chr(64+num):num for num in range(1,21) if num%5==0 or num%3==0}\n",
        "print(dicionario2)"
      ],
      "metadata": {
        "id": "SrQaSdGgr6zl"
      },
      "execution_count": null,
      "outputs": []
    },
    {
      "cell_type": "code",
      "source": [
        "# 117 Use compreensão de dicionários para extrair os produtos com preço superior a dois mil reais.\n",
        "\n",
        "\n",
        "# produtos = {\n",
        "#     'geladeira':1619.1,\n",
        "#     'ps5':4999,\n",
        "#     'liquidificador':89.9,\n",
        "#     'notebook':3500,\n",
        "#     'TV':1500,\n",
        "#     'ventilador':79.99,\n",
        "#     'microondas':399.99\n",
        "#     }\n",
        "produtos = {\n",
        "    'geladeira':1619.1,\n",
        "    'ps5':4999,\n",
        "    'liquidificador':89.9,\n",
        "    'notebook':3500,\n",
        "    'TV':1500,\n",
        "    'ventilador':79.99,\n",
        "    'microondas':399.99\n",
        "    }\n",
        "selecao = {chave:valor for chave,valor in produtos.items() if valor>2000}\n",
        "print(selecao)\n",
        "\n",
        "# b) Considerando que cada valor deste dicionário representa o preço de cada produto, obtenha o custo total desta cesta de produtos.\n",
        "soma = sum(produtos.values())"
      ],
      "metadata": {
        "id": "GbogTXagr612"
      },
      "execution_count": null,
      "outputs": []
    },
    {
      "cell_type": "code",
      "source": [
        "# 118 Elabore uma função que retorne a soma de dois números.\n",
        "def somar(x,y):\n",
        "  return x+y"
      ],
      "metadata": {
        "id": "lWIPe0Cvr64d"
      },
      "execution_count": null,
      "outputs": []
    },
    {
      "cell_type": "code",
      "source": [
        "#  119 Escreva uma função que retorne a área de um retângulo. \n",
        "# A sua função deve receber a base e a altura como parâmetros. \n",
        "# Lembre que a área de um retângulo é dada pela fórmula: A=base x altura\n",
        "def area_retangulo(base,altura):\n",
        "    return base*altura"
      ],
      "metadata": {
        "id": "p60AbFkOumDz"
      },
      "execution_count": null,
      "outputs": []
    },
    {
      "cell_type": "code",
      "source": [
        "# 120 Escreva uma função que retorne a área de um triângulo. \n",
        "# A sua função deve receber como parâmetros a base e a altura. \n",
        "# Lembre que a área de um triângulo é dada pela fórmula: A=(base x altura)/2\n",
        "def area_triangulo(base,altura):\n",
        "    return (base*altura)/2"
      ],
      "metadata": {
        "id": "X1YIYGaQumGb"
      },
      "execution_count": null,
      "outputs": []
    },
    {
      "cell_type": "code",
      "source": [
        "# 121 Escreva uma função que verifique se um número é múltiplo do outro e retorne um valor lógico.\n",
        "def checar_multiplo(numero1,numero2):\n",
        "    return numero1%numero2==0"
      ],
      "metadata": {
        "id": "T5mywN22umJk"
      },
      "execution_count": null,
      "outputs": []
    },
    {
      "cell_type": "code",
      "source": [
        "# 122 Escreva um programa que pesquise um determinado valor em uma lista. \n",
        "# Sua função deve ter como parâmetros a lista e o valor a ser verificado. \n",
        "# Caso o valor faça parte da lista informada retorne True e False, caso contrário.\n",
        "def checar_valor(lista,valor):\n",
        "    for elemento in lista:  #iremos percorrer toda a lista e tentar checar a condição\n",
        "        if elemento==valor:\n",
        "            return True\n",
        "        \n",
        "    return False"
      ],
      "metadata": {
        "id": "0gyRNszEwHZO"
      },
      "execution_count": null,
      "outputs": []
    },
    {
      "cell_type": "code",
      "source": [
        "# 123 Escreva uma função para checar se um determinado ano é bissexto.\n",
        "def checar_bissexto(ano):\n",
        "    if ano%400==0:\n",
        "        return True\n",
        "    elif ano%100==0:\n",
        "        return False\n",
        "    elif ano%4==0:\n",
        "        return True\n",
        "    else:\n",
        "        return False"
      ],
      "metadata": {
        "id": "INML8cbiumMZ"
      },
      "execution_count": null,
      "outputs": []
    },
    {
      "cell_type": "code",
      "source": [
        "# 124 Elabore uma função que receba um número inteiro e retorne o fatorial deste número.\n",
        "def fatorial(num):\n",
        "    'Função para calcular o fatorial de um número.'\n",
        "    fatorial=1\n",
        "    for i in range(1,num+1):\n",
        "        fatorial*=i\n",
        "    return fatorial"
      ],
      "metadata": {
        "id": "3hhQnMdnumQT"
      },
      "execution_count": null,
      "outputs": []
    },
    {
      "cell_type": "code",
      "source": [
        "# 125 Implemente uma função recursiva para calcular e retornar o fatorial de um número inteiro.\n",
        "def fatorial(num):\n",
        "    if num==1 or num==0:\n",
        "        return 1\n",
        "    else:\n",
        "        return fatorial(num-1)*num"
      ],
      "metadata": {
        "id": "kYHK2A_NumSx"
      },
      "execution_count": null,
      "outputs": []
    },
    {
      "cell_type": "code",
      "source": [
        "# 126 Implemente uma função recursiva para imprimir o n-ésimo termo da sequência Fibonacci.\n",
        "def fibonacci(n):\n",
        "    if n<=1:\n",
        "        return n\n",
        "    else:\n",
        "        return fibonacci(n-1)+fibonacci(n-2)"
      ],
      "metadata": {
        "id": "94ogY7yBumVZ"
      },
      "execution_count": null,
      "outputs": []
    },
    {
      "cell_type": "code",
      "source": [
        "# 127 Escreva uma função que receba uma lista de números reais como parâmetro e retorne a média destes números.\n",
        "def media_lista(lista):\n",
        "    soma=0\n",
        "    for num in lista:\n",
        "        soma+=num\n",
        "    return soma/len(lista)"
      ],
      "metadata": {
        "id": "y5XjcupeumZR"
      },
      "execution_count": null,
      "outputs": []
    },
    {
      "cell_type": "code",
      "source": [
        "# 128 Escreva uma função que retorna o tamanho de uma string.\n",
        "def tamanho_string(string):\n",
        "    contador=0\n",
        "    for caractere in string:\n",
        "        contador+=1\n",
        "    return contador"
      ],
      "metadata": {
        "id": "49rqE7uOumcW"
      },
      "execution_count": null,
      "outputs": []
    },
    {
      "cell_type": "code",
      "source": [
        "# 129 Escreva uma função para checar se uma lista é vazia ou não.\n",
        "def checar_lista(lista):\n",
        "    return not len(lista)>0  #caso a lista seja vazia será retornado True\n",
        "#Exemplos\n",
        "print(checar_lista([]))\n",
        "print(checar_lista([10,11,12]))"
      ],
      "metadata": {
        "id": "qnbHbUUsumfe"
      },
      "execution_count": null,
      "outputs": []
    },
    {
      "cell_type": "code",
      "source": [
        "# 130 Escreva uma função que faça uma cópia de uma lista.\n",
        "def copiar_lista(lista):\n",
        "    copia=[]\n",
        "    if type(lista)==list:\n",
        "        if len(lista)>0:\n",
        "            for elemento in lista:\n",
        "                copia.append(elemento)\n",
        "            return copia\n",
        "        else:\n",
        "            copia\n",
        "            \n",
        "print(copiar_lista([1,2]))"
      ],
      "metadata": {
        "id": "RpKbu5n-r66O"
      },
      "execution_count": null,
      "outputs": []
    },
    {
      "cell_type": "code",
      "source": [
        "# 131 Escreva uma função que verifique se duas listas possuem ao menos um elemento em comum, retornando True em caso positivo.\n",
        "def checar_comum(lista_1,lista_2):\n",
        "    for i in lista_1:\n",
        "        for j in lista_2:\n",
        "            if i==j:\n",
        "                return True\n",
        "    return False\n",
        " \n",
        "print(checar_comum([1,2,3],[4,5,3]))\n",
        "print(checar_comum([2,3,3],[1,2,4,5,4]))\n",
        "print(checar_comum([11,12],[1,0]))"
      ],
      "metadata": {
        "id": "azp1Ne51r68m"
      },
      "execution_count": null,
      "outputs": []
    },
    {
      "cell_type": "code",
      "source": [
        "# 132 Escreva uma função lambda associada a uma variável que some os argumentos x,y,z,k. Teste um resultado na tela.\n",
        "soma=lambda x,y,z,k:x+y+z+k\n",
        "print(soma(1,1,1,1))"
      ],
      "metadata": {
        "id": "NNLfXseLxM0h"
      },
      "execution_count": null,
      "outputs": []
    },
    {
      "cell_type": "code",
      "source": [
        "# 133 Escreva uma função lambda que multiplique os argumentos x,y,z. Teste um resultado na tela.\n",
        "mul=lambda x,y,z:x*y*z\n",
        "print(mul(10,10,10))"
      ],
      "metadata": {
        "id": "wRXocDyUxSjg"
      },
      "execution_count": null,
      "outputs": []
    },
    {
      "cell_type": "code",
      "source": [
        "# 134 Considere a lista a seguir, com pares respectivos as capitais brasileiras e as temperaturas registradas para um determinado dia em 2020.\n",
        "\n",
        "# Use a função map() para converter as temperaturas de °C para K e F.\n",
        "\n",
        "\n",
        "# temperatura_capitais_brasil=[\n",
        "\n",
        "#     ('Boa Vista',32.4),\n",
        "\n",
        "#     ('Brasília',26.6),\n",
        "\n",
        "#     ('Campo Grande',28.8),\n",
        "\n",
        "#     ('Cuiabá',38.6),\n",
        "\n",
        "#     ('Salvador',37.1),\n",
        "\n",
        "#     ('São Paulo',38.8),\n",
        "\n",
        "#     ('Rio de Janeiro',34.7)\n",
        "\n",
        "# ]\n",
        "import math\n",
        "temperatura_capitais_brasil=[\n",
        "    ('Boa Vista',32.4),\n",
        "    ('Brasília',26.6),\n",
        "    ('Campo Grande',28.8),\n",
        "    ('Cuiabá',38.6),\n",
        "    ('Salvador',37.1),\n",
        "    ('São Paulo',38.8),\n",
        "    ('Rio de Janeiro',34.7)\n",
        "]\n",
        "temperatura_F=map(lambda par:(par[0],round(par[1]*(9/5)+32,1)),temperatura_capitais_brasil)\n",
        "temperatura_K=map(lambda par:(par[0],round(par[1]+273)),temperatura_capitais_brasil)\n",
        "print(list(temperatura_F))\n",
        "print(list(temperatura_K))"
      ],
      "metadata": {
        "id": "H2EByxxJxTFl"
      },
      "execution_count": null,
      "outputs": []
    },
    {
      "cell_type": "code",
      "source": [
        "# 135 Utilize a função map() para criar uma lista com o quadrado de cada número par e o cubo de cada número ímpar. Considere o intervalo [1,20].\n",
        "\n",
        "lista1 = list(map(lambda x:(x,x**2) if x%2==0 else (x,x**3),range(1,20)))\n",
        "print(lista1)"
      ],
      "metadata": {
        "id": "xvFPnfe_xTIK"
      },
      "execution_count": null,
      "outputs": []
    },
    {
      "cell_type": "code",
      "source": [
        "# 136 Considere a lista nomes a seguir e responda:\n",
        "\n",
        "\n",
        "# nomes=['','Roberto Carlos','Tom Jobim','Jorge Amado','Machado de Assis','Zé Ramalho','Elba Ramalho','','',[],()]\n",
        "\n",
        "# a) obtenha uma nova lista sem os objetos vazios.\n",
        "\n",
        "# output:\n",
        "\n",
        "# ['Roberto Carlos', 'Tom Jobim', 'Jorge Amado', 'Machado de Assis', 'Zé Ramalho', 'Elba Ramalho']\n",
        "\n",
        "# b) obtenha uma nova lista que tenha apenas os nomes com o sobrenome Ramalho.\n",
        "\n",
        "# output:\n",
        "\n",
        "# ['Zé Ramalho', 'Elba Ramalho']\n",
        "nomes=['','Roberto Carlos',\n",
        "       'Tom Jobim',\n",
        "       'Jorge Amado',\n",
        "       'Machado de Assis',\n",
        "       'Zé Ramalho',\n",
        "       'Elba Ramalho',\n",
        "       '','',[],()]\n",
        "\n",
        "filtro1=list(filter(None,nomes))\n",
        "print(filtro1)\n",
        " \n",
        "filtro2=list(filter(lambda nome:len(nome)>0 and nome.split()[-1]=='Ramalho',nomes))\n",
        "print(filtro2)"
      ],
      "metadata": {
        "id": "FWE9Kr86xTMM"
      },
      "execution_count": null,
      "outputs": []
    },
    {
      "cell_type": "code",
      "source": [
        "# 137 Crie uma função que recebe um número e verifique se este é par. Posteriormente, use a função filter() para criar uma lista com todos os números pares de 1 a 50.\n",
        "\n",
        "lista = [2, 4, 6, 8, 10, 12, 14, 16, 18, 20, 22, 24, 26, 28, 30, 32, 34, 36, 38, 40, 42, 44, 46, 48, 50]\n",
        "\n",
        "def checa_par(num):\n",
        "  if num%2==0:\n",
        "    return True\n",
        "  else:\n",
        "    return False\n",
        "\n",
        "lista_par = list(filter(lambda x: checa_par(x), lista))\n",
        "print(lista_par)"
      ],
      "metadata": {
        "id": "PU1pskVqxTPF"
      },
      "execution_count": null,
      "outputs": []
    },
    {
      "cell_type": "code",
      "source": [
        "# 138 Crie uma função que recebe um número e verifique se este é primo. Posteriormente, use a função filter() para criar uma lista com todos os números pares de 1 a 50.\n",
        "\n",
        "lista = [2, 3, 5, 7, 11, 13, 17, 19, 23, 29, 31, 37, 41, 43, 47]\n",
        "def checa_primo(numero):\n",
        "    if numero>1:\n",
        "        for i in range(2,numero):\n",
        "            if numero%i==0:\n",
        "                return False\n",
        "        else:\n",
        "            return True\n",
        "    else:\n",
        "        return False\n",
        "    \n",
        "lista_primo=list(filter(lambda numero:checa_primo(numero),range(1,51)))\n",
        "lista_primo"
      ],
      "metadata": {
        "id": "6xCbnXsjxTRT"
      },
      "execution_count": null,
      "outputs": []
    },
    {
      "cell_type": "code",
      "source": [
        "# 139 Use a função zip() para criar uma lista de tuplas. O primeiro elemento do par deve armazenar o índice da tupla, enquanto que seu segundo elemento é o índice ao cubo. Considere um intervalo de 1 a 20.\n",
        "\n",
        "# [(0, 1), (1, 4), (2, 9), (3, 16), (4, 25), (5, 36), (6, 49), (7, 64), (8, 81), (9, 100),\n",
        "#  (10, 121), (11, 144), (12, 169), (13, 196), (14, 225), (15, 256), (16, 289), (17, 324), (18, 361), (19, 400)]\n",
        "\n",
        "lista=list(zip(range(20),[numero**2 for numero in range(1,21)]))\n",
        "lista"
      ],
      "metadata": {
        "id": "CF3XDbzPxTTd"
      },
      "execution_count": null,
      "outputs": []
    },
    {
      "cell_type": "code",
      "source": [
        "# 140 Use list() e zip() para criar uma nova lista de tuplas a partir da lista1 e lista2.\n",
        "\n",
        "# lista1=[1,2,3,4]\n",
        "# lista2=['Python','JavaScript','Java','HTML']\n",
        "\n",
        "\n",
        "# output:\n",
        "\n",
        "\n",
        "\n",
        "# [(1, 'Python'), (2, 'JavaScript'), (3, 'Java'), (4, 'HTML')]\n",
        "\n",
        "lista1=[1,2,3,4]\n",
        "lista2=['Python','JavaScript','Java','HTML']\n",
        "lista3=list(zip(lista1,lista2))\n",
        "print(lista3)\n",
        "\n",
        "lista1=[40,50,60,70,80]\n",
        "lista2=[-4,2,0,50,1]\n",
        "lista3a=list(zip(lista1,lista2))\n",
        "print(lista3a)\n"
      ],
      "metadata": {
        "id": "h7d-0aTjxTWO"
      },
      "execution_count": null,
      "outputs": []
    },
    {
      "cell_type": "code",
      "source": [
        "# 141 Use list() e zip() para criar uma nova lista de tuplas com as listas a seguir.\n",
        "\n",
        "paises=['Brasil','Brasil','Brasil','EUA','EUA','EUA','EUA']\n",
        "estados=['São Paulo','Bahia','Rio de Janeiro','Alabama','Alabama','Alabama','Califórnia']\n",
        "cidades=['São Paulo','Salvador','Rio de Janeiro','Birmingham','Huntsville','Mobile','Beverly Hills']\n",
        " \n",
        "# output:\n",
        "\n",
        "# [('Brasil', 'São Paulo', 'São Paulo'), ('Brasil', 'Bahia', 'Salvador'), \n",
        "# ('Brasil', 'Rio de Janeiro', 'Rio de Janeiro'), ('EUA', 'Alabama', 'Birmingham'), \n",
        "# ('EUA', 'Alabama', 'Huntsville'), ('EUA', 'Alabama', 'Mobile'), ('EUA', 'Califórnia', 'Beverly Hills')]\n",
        "lista2 = list(zip(paises,estados,cidades))\n",
        "lista2"
      ],
      "metadata": {
        "id": "B8742AQ6_Kjw"
      },
      "execution_count": null,
      "outputs": []
    },
    {
      "cell_type": "code",
      "source": [
        "# 142 Converta as listas abaixo para um dicionário. Use dict() e zip().\n",
        "\n",
        "\n",
        "\n",
        "# chaves=['cidades_EUA','cidades_BR']\n",
        "# valores=[\n",
        "#     ['Nova Iorque','Houston','Boston','Detroit','Seattle'],\n",
        "#     ['Rio de Janeiro','São Paulo','Brasília','Goiânia','Recife']\n",
        "#         ]\n",
        "\n",
        "chaves=['cidades_EUA','cidades_BR']\n",
        "valores=[\n",
        "    ['Nova Iorque','Houston','Boston','Detroit','Seattle'],\n",
        "    ['Rio de Janeiro','São Paulo','Brasília','Goiânia','Recife']\n",
        "        ]\n",
        "dicionario=dict(zip(chaves,valores))\n",
        "dicionario"
      ],
      "metadata": {
        "id": "zocQeif4_Kmg"
      },
      "execution_count": null,
      "outputs": []
    },
    {
      "cell_type": "code",
      "source": [
        "# 143 A partir das listas abaixo,\n",
        "\n",
        "\n",
        "anos=list(range(2010,2020))\n",
        "chaves=['Receita produto A','Receita produto B']\n",
        "valores=[\n",
        "    [1001.19,1500.55,857.94,110.33,29.45,33.55,44.70,430,120,177],\n",
        "    [20,33.5,91.4,4.5,111,230,900,801.2,101.4,202.6]\n",
        "]\n",
        "\n",
        "\n",
        "# Obtenha:\n",
        "\n",
        "\n",
        "# a) um dicionário por meio das listas chaves e valores, use zip() e dict(). Resultado esperado:\n",
        "\n",
        "\n",
        "# {'Receita produto A': [1001.19, 1500.55, 857.94, 110.33, 29.45, 33.55, 44.7, 430, 120, 177], 'Receita produto B': [20, 33.5, 91.4, 4.5, 111, 230, 900, 801.2, 101.4, 202.6]}\n",
        "\n",
        "# b) construa um DataFrame com a biblioteca pandas a partir do dicionário criado, use o construtor DataFrame() e passe a lista anos com index. Resultado esperado:\n",
        "\n",
        "# c) crie uma lista de tuplas que armazene a receita total dos produtos A e B por ano. Use Compreensão em Listas. Resultado esperado:\n",
        "\n",
        "# [(2010, 1021.19), (2011, 1534.05), (2012, 949.34), (2013, 114.83), (2014, 140.45), (2015, 263.55), (2016, 944.7), (2017, 1231.2), (2018, 221.4), (2019, 379.6)]"
      ],
      "metadata": {
        "id": "1XnXeE7j_KpR"
      },
      "execution_count": null,
      "outputs": []
    },
    {
      "cell_type": "code",
      "source": [
        "#importaremos a biblioteca Pandas apelidando-a com pd\n",
        "import pandas as pd\n",
        " \n",
        "#a)\n",
        " \n",
        "anos=list(range(2010,2020))\n",
        "chaves=['Receita produto A','Receita produto B']\n",
        "valores=[\n",
        "    [1001.19,1500.55,857.94,110.33,29.45,33.55,44.70,430,120,177],\n",
        "    [20,33.5,91.4,4.5,111,230,900,801.2,101.4,202.6]\n",
        "]\n",
        " \n",
        "dicionario=dict(zip(chaves,valores))\n",
        " \n",
        "#b\n",
        "data_frame=pd.DataFrame(dicionario,index=anos)\n",
        " \n",
        "#c)\n",
        "receita_total_ano=list(zip(anos,[round(v1+v2,2) for v1,v2 in zip(valores[0],valores[1])]))"
      ],
      "metadata": {
        "id": "iXwK4JbCxTZF"
      },
      "execution_count": null,
      "outputs": []
    },
    {
      "cell_type": "code",
      "source": [
        "# 144 Considere a expressão a seguir.\n",
        "\n",
        "# x**3 + x**2 + 10*x - x + 4\n",
        "\n",
        "# Use uma função integrada para encontrar o resultado desta expressão, quando o valor de x é 10. Resultado esperado: 1264.\n",
        "\n",
        "# Dica: use a função eval().\n",
        "x=10\n",
        "expressao='x**3+x**2+17*x-x+4'\n",
        "resultado=eval(expressao)\n",
        "print(resultado)"
      ],
      "metadata": {
        "id": "kC-bu-ktxTbs"
      },
      "execution_count": null,
      "outputs": []
    },
    {
      "cell_type": "code",
      "source": [
        "# 145 Considere as variáveis\n",
        "\n",
        "\n",
        "\n",
        "# var1=['Hello World!']\n",
        "# var2=True and all([True or False,()])\n",
        "# var3=('10',) if 10>4 else 1\n",
        "# var4=('Hello World!')\n",
        "# var5=('Python is love!',)\n",
        "\n",
        "\n",
        "# a) Verifique e imprima o tipo destas variáveis na tela.\n",
        "\n",
        "# ['Hello World!'] <class 'list'>\n",
        "# False <class 'bool'>\n",
        "# ('10',) <class 'tuple'>\n",
        "# Hello World! <class 'str'>\n",
        "# ('Python is love!',) <class 'tuple'>\n",
        "# b) Verifique se essas variáveis são objetos do tipo tupla, isto é, instâncias da classe tupla.\n",
        "\n",
        "\n",
        "\n",
        "# ['Hello World!'] Não é uma tupla\n",
        "# False Não é uma tupla\n",
        "# ('10',) É uma tupla!\n",
        "# Hello World! Não é uma tupla\n",
        "# ('Python is love!',) É uma tupla!\n",
        "\n",
        "\n",
        "var1=['Hello World!']\n",
        "var2=True and all([True or False,()])\n",
        "var3=('10',) if 10>4 else 1\n",
        "var4=('Hello World!')\n",
        "var5=('Python is love!',)\n",
        "variaveis=[var1,var2,var3,var4,var5]\n",
        "#a)\n",
        " \n",
        "for variavel in variaveis:\n",
        "    print(variavel,type(variavel))\n",
        "    \n",
        "#b)\n",
        "for variavel in variaveis:\n",
        "    print(variavel,'É uma tupla!' if isinstance(variavel,tuple) else 'Não é uma tupla')"
      ],
      "metadata": {
        "id": "7XjLLRdZxTek"
      },
      "execution_count": null,
      "outputs": []
    },
    {
      "cell_type": "code",
      "source": [
        "# 146 Use a string 'Python is love!' e mostre na tela a letra e o índice correspondente. Implemente um loop for e use a função enumerate().\n",
        "\n",
        "\n",
        "\n",
        "# 0 P\n",
        "# 1 y\n",
        "# 2 t\n",
        "# 3 h\n",
        "# 4 o\n",
        "# 5 n\n",
        "# 6  \n",
        "# 7 i\n",
        "# 8 s\n",
        "# 9  \n",
        "# 10 l\n",
        "# 11 o\n",
        "# 12 v\n",
        "# 13 e\n",
        "# 14 !\n",
        "\n",
        "for indice,letra in enumerate('Python is love!'):\n",
        "    print(indice,letra)"
      ],
      "metadata": {
        "id": "syCqyofOB2EI"
      },
      "execution_count": null,
      "outputs": []
    },
    {
      "cell_type": "code",
      "source": [
        "# 147 Use uma função built-in para obter a primeira e a última letra da lista letras, considerando a ordem alfabética.\n",
        "\n",
        "# letras=['c','k','w','x','m','r','j','l','n','v']\n",
        "# Resultado esperado:\n",
        "\n",
        "# Primeiro letra: c\n",
        "# Última letra: x\n",
        "letras=['c','k','w','x','m','r','j','l','n','v']\n",
        "print('Primeiro letra: '+min(letras))\n",
        "print('Última letra: '+max(letras))"
      ],
      "metadata": {
        "id": "WQ5zI6vDB2G7"
      },
      "execution_count": null,
      "outputs": []
    }
  ]
}